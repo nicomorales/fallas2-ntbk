{
 "cells": [
  {
   "cell_type": "markdown",
   "id": "a256cbc1",
   "metadata": {},
   "source": [
    "<a id = \"1.0\"></a>\n",
    "<p style=\"font-size:15px;color:#34656d;font-family:'Comic Sans MS';text-align:right;border-radius:5px 5px;\">\n",
    "    <i>Aprender una técnica no es un fin en si mismo, simplemente indica por donde hay que empezar</i><br><b>Proverbio Japonés</b></p> "
   ]
  },
  {
   "cell_type": "markdown",
   "id": "1cb74823",
   "metadata": {},
   "source": [
    "<a id = \"1.0\"></a>\n",
    "<p style=\"font-size:15px;color:#34656d;font-family:'Comic Sans MS';text-align:right;border-radius:5px 5px;\">\n",
    "<i>Material curado y organizado por el Prof. Dr. Hernán D. Merlino</i><br> \n",
    "<i>NLP Versión 1.0 - 2022 Q2</i></p> "
   ]
  },
  {
   "cell_type": "markdown",
   "id": "56d48638",
   "metadata": {},
   "source": [
    "<a id = \"1.0\"></a>\n",
    "<p style=\"font-size:25px;color:#34656d;font-family:'Comic Sans MS';text-align:center;border-radius:5px;\">\n",
    "<strong>Auto NLP</strong></p>\n",
    "<p style=\"font-size:25px;color:#34656d;font-family:'Comic Sans MS';text-align:center;border-radius:5px 5px;\">\n",
    "<strong>_____________________________________________________________</strong></p> "
   ]
  },
  {
   "cell_type": "code",
   "execution_count": 1,
   "id": "d05a3192",
   "metadata": {},
   "outputs": [
    {
     "name": "stdout",
     "output_type": "stream",
     "text": [
      "Pyton version: 3.8.15\n"
     ]
    }
   ],
   "source": [
    "from platform import python_version\n",
    "\n",
    "# En produccion sacar, solo se incluye a modo de informacion\n",
    "print('Pyton version: {}'.format(python_version()))"
   ]
  },
  {
   "cell_type": "code",
   "execution_count": 2,
   "id": "f0a372e9",
   "metadata": {},
   "outputs": [
    {
     "name": "stdout",
     "output_type": "stream",
     "text": [
      "Selected Jupyter core packages...\n",
      "IPython          : 8.6.0\n",
      "ipykernel        : 6.15.2\n",
      "ipywidgets       : 7.6.5\n",
      "jupyter_client   : 7.3.5\n",
      "jupyter_core     : 4.11.2\n",
      "jupyter_server   : 1.18.1\n",
      "jupyterlab       : 3.4.4\n",
      "nbclient         : 0.5.13\n",
      "nbconvert        : 6.5.4\n",
      "nbformat         : 5.5.0\n",
      "notebook         : 6.5.2\n",
      "qtconsole        : 5.3.2\n",
      "traitlets        : 5.1.1\n"
     ]
    }
   ],
   "source": [
    "!jupyter --version"
   ]
  },
  {
   "cell_type": "code",
   "execution_count": 3,
   "id": "0550c395",
   "metadata": {},
   "outputs": [],
   "source": [
    "import warnings\n",
    "warnings.filterwarnings(\"ignore\")"
   ]
  },
  {
   "cell_type": "code",
   "execution_count": 4,
   "id": "c0b37117",
   "metadata": {},
   "outputs": [
    {
     "name": "stdout",
     "output_type": "stream",
     "text": [
      "Pycaret version:  2.3.10\n"
     ]
    }
   ],
   "source": [
    "# En produccion sacar, solo se incluye a modo de informacion\n",
    "import pycaret\n",
    "print('Pycaret version:  %s' % pycaret.__version__)\n",
    "\n",
    "from pycaret.nlp import *"
   ]
  },
  {
   "cell_type": "code",
   "execution_count": 5,
   "id": "bbcbb65c-ffae-44cd-87e3-91ab6ef39f1d",
   "metadata": {},
   "outputs": [
    {
     "data": {
      "text/html": [
       "<div>\n",
       "<style scoped>\n",
       "    .dataframe tbody tr th:only-of-type {\n",
       "        vertical-align: middle;\n",
       "    }\n",
       "\n",
       "    .dataframe tbody tr th {\n",
       "        vertical-align: top;\n",
       "    }\n",
       "\n",
       "    .dataframe thead th {\n",
       "        text-align: right;\n",
       "    }\n",
       "</style>\n",
       "<table border=\"1\" class=\"dataframe\">\n",
       "  <thead>\n",
       "    <tr style=\"text-align: right;\">\n",
       "      <th></th>\n",
       "      <th>id</th>\n",
       "      <th>dateAdded</th>\n",
       "      <th>dateUpdated</th>\n",
       "      <th>address</th>\n",
       "      <th>categories</th>\n",
       "      <th>primaryCategories</th>\n",
       "      <th>city</th>\n",
       "      <th>country</th>\n",
       "      <th>keys</th>\n",
       "      <th>latitude</th>\n",
       "      <th>...</th>\n",
       "      <th>reviews.dateSeen</th>\n",
       "      <th>reviews.rating</th>\n",
       "      <th>reviews.sourceURLs</th>\n",
       "      <th>reviews.text</th>\n",
       "      <th>reviews.title</th>\n",
       "      <th>reviews.userCity</th>\n",
       "      <th>reviews.userProvince</th>\n",
       "      <th>reviews.username</th>\n",
       "      <th>sourceURLs</th>\n",
       "      <th>websites</th>\n",
       "    </tr>\n",
       "  </thead>\n",
       "  <tbody>\n",
       "    <tr>\n",
       "      <th>0</th>\n",
       "      <td>AVwc252WIN2L1WUfpqLP</td>\n",
       "      <td>2016-10-30T21:42:42Z</td>\n",
       "      <td>2018-09-10T21:06:27Z</td>\n",
       "      <td>5921 Valencia Cir</td>\n",
       "      <td>Hotels,Hotels and motels,Hotel and motel reser...</td>\n",
       "      <td>Accommodation &amp; Food Services</td>\n",
       "      <td>Rancho Santa Fe</td>\n",
       "      <td>US</td>\n",
       "      <td>us/ca/ranchosantafe/5921valenciacir/359754519</td>\n",
       "      <td>32.990959</td>\n",
       "      <td>...</td>\n",
       "      <td>2016-08-03T00:00:00Z,2016-07-26T00:00:00Z,2016...</td>\n",
       "      <td>5.0</td>\n",
       "      <td>https://www.hotels.com/hotel/125419/reviews%20/</td>\n",
       "      <td>Our experience at Rancho Valencia was absolute...</td>\n",
       "      <td>Best romantic vacation ever!!!!</td>\n",
       "      <td>NaN</td>\n",
       "      <td>NaN</td>\n",
       "      <td>Paula</td>\n",
       "      <td>http://www.hotels.com/ho125419/%25252525253Flo...</td>\n",
       "      <td>http://www.ranchovalencia.com</td>\n",
       "    </tr>\n",
       "    <tr>\n",
       "      <th>1</th>\n",
       "      <td>AVwc252WIN2L1WUfpqLP</td>\n",
       "      <td>2016-10-30T21:42:42Z</td>\n",
       "      <td>2018-09-10T21:06:27Z</td>\n",
       "      <td>5921 Valencia Cir</td>\n",
       "      <td>Hotels,Hotels and motels,Hotel and motel reser...</td>\n",
       "      <td>Accommodation &amp; Food Services</td>\n",
       "      <td>Rancho Santa Fe</td>\n",
       "      <td>US</td>\n",
       "      <td>us/ca/ranchosantafe/5921valenciacir/359754519</td>\n",
       "      <td>32.990959</td>\n",
       "      <td>...</td>\n",
       "      <td>2016-08-02T00:00:00Z,2016-08-26T00:00:00Z,2016...</td>\n",
       "      <td>5.0</td>\n",
       "      <td>https://www.hotels.com/hotel/125419/reviews%20/</td>\n",
       "      <td>Amazing place. Everyone was extremely warm and...</td>\n",
       "      <td>Sweet sweet serenity</td>\n",
       "      <td>NaN</td>\n",
       "      <td>NaN</td>\n",
       "      <td>D</td>\n",
       "      <td>http://www.hotels.com/ho125419/%25252525253Flo...</td>\n",
       "      <td>http://www.ranchovalencia.com</td>\n",
       "    </tr>\n",
       "    <tr>\n",
       "      <th>2</th>\n",
       "      <td>AVwc252WIN2L1WUfpqLP</td>\n",
       "      <td>2016-10-30T21:42:42Z</td>\n",
       "      <td>2018-09-10T21:06:27Z</td>\n",
       "      <td>5921 Valencia Cir</td>\n",
       "      <td>Hotels,Hotels and motels,Hotel and motel reser...</td>\n",
       "      <td>Accommodation &amp; Food Services</td>\n",
       "      <td>Rancho Santa Fe</td>\n",
       "      <td>US</td>\n",
       "      <td>us/ca/ranchosantafe/5921valenciacir/359754519</td>\n",
       "      <td>32.990959</td>\n",
       "      <td>...</td>\n",
       "      <td>2016-11-15T00:00:00Z,2016-08-23T00:00:00Z,2016...</td>\n",
       "      <td>5.0</td>\n",
       "      <td>https://www.hotels.com/hotel/125419/reviews%20/</td>\n",
       "      <td>We booked a 3 night stay at Rancho Valencia to...</td>\n",
       "      <td>Amazing Property and Experience</td>\n",
       "      <td>NaN</td>\n",
       "      <td>NaN</td>\n",
       "      <td>Ron</td>\n",
       "      <td>http://www.hotels.com/ho125419/%25252525253Flo...</td>\n",
       "      <td>http://www.ranchovalencia.com</td>\n",
       "    </tr>\n",
       "    <tr>\n",
       "      <th>3</th>\n",
       "      <td>AVwdOclqIN2L1WUfti38</td>\n",
       "      <td>2015-11-28T19:19:35Z</td>\n",
       "      <td>2018-09-10T21:06:16Z</td>\n",
       "      <td>7520 Teague Rd</td>\n",
       "      <td>Hotels,Hotels and motels,Travel agencies and b...</td>\n",
       "      <td>Accommodation &amp; Food Services</td>\n",
       "      <td>Hanover</td>\n",
       "      <td>US</td>\n",
       "      <td>us/md/hanover/7520teaguerd/-2043779672</td>\n",
       "      <td>39.155929</td>\n",
       "      <td>...</td>\n",
       "      <td>2016-05-21T00:00:00Z,2016-07-31T00:00:00Z</td>\n",
       "      <td>2.0</td>\n",
       "      <td>https://www.tripadvisor.com/Hotel_Review-g4118...</td>\n",
       "      <td>Currently in bed writing this for the past hr ...</td>\n",
       "      <td>Never again...beware, if you want sleep.</td>\n",
       "      <td>Richmond</td>\n",
       "      <td>VA</td>\n",
       "      <td>jaeem2016</td>\n",
       "      <td>http://www.yellowbook.com/profile/aloft-arunde...</td>\n",
       "      <td>http://www.starwoodhotels.com/alofthotels/prop...</td>\n",
       "    </tr>\n",
       "    <tr>\n",
       "      <th>4</th>\n",
       "      <td>AVwdOclqIN2L1WUfti38</td>\n",
       "      <td>2015-11-28T19:19:35Z</td>\n",
       "      <td>2018-09-10T21:06:16Z</td>\n",
       "      <td>7520 Teague Rd</td>\n",
       "      <td>Hotels,Hotels and motels,Travel agencies and b...</td>\n",
       "      <td>Accommodation &amp; Food Services</td>\n",
       "      <td>Hanover</td>\n",
       "      <td>US</td>\n",
       "      <td>us/md/hanover/7520teaguerd/-2043779672</td>\n",
       "      <td>39.155929</td>\n",
       "      <td>...</td>\n",
       "      <td>2016-07-31T00:00:00Z</td>\n",
       "      <td>5.0</td>\n",
       "      <td>https://www.tripadvisor.com/Hotel_Review-g4118...</td>\n",
       "      <td>I live in Md and the Aloft is my Home away fro...</td>\n",
       "      <td>ALWAYS GREAT STAY...</td>\n",
       "      <td>Laurel</td>\n",
       "      <td>MD</td>\n",
       "      <td>MamaNiaOne</td>\n",
       "      <td>http://www.yellowbook.com/profile/aloft-arunde...</td>\n",
       "      <td>http://www.starwoodhotels.com/alofthotels/prop...</td>\n",
       "    </tr>\n",
       "  </tbody>\n",
       "</table>\n",
       "<p>5 rows × 25 columns</p>\n",
       "</div>"
      ],
      "text/plain": [
       "                     id             dateAdded           dateUpdated  \\\n",
       "0  AVwc252WIN2L1WUfpqLP  2016-10-30T21:42:42Z  2018-09-10T21:06:27Z   \n",
       "1  AVwc252WIN2L1WUfpqLP  2016-10-30T21:42:42Z  2018-09-10T21:06:27Z   \n",
       "2  AVwc252WIN2L1WUfpqLP  2016-10-30T21:42:42Z  2018-09-10T21:06:27Z   \n",
       "3  AVwdOclqIN2L1WUfti38  2015-11-28T19:19:35Z  2018-09-10T21:06:16Z   \n",
       "4  AVwdOclqIN2L1WUfti38  2015-11-28T19:19:35Z  2018-09-10T21:06:16Z   \n",
       "\n",
       "             address                                         categories  \\\n",
       "0  5921 Valencia Cir  Hotels,Hotels and motels,Hotel and motel reser...   \n",
       "1  5921 Valencia Cir  Hotels,Hotels and motels,Hotel and motel reser...   \n",
       "2  5921 Valencia Cir  Hotels,Hotels and motels,Hotel and motel reser...   \n",
       "3     7520 Teague Rd  Hotels,Hotels and motels,Travel agencies and b...   \n",
       "4     7520 Teague Rd  Hotels,Hotels and motels,Travel agencies and b...   \n",
       "\n",
       "               primaryCategories             city country  \\\n",
       "0  Accommodation & Food Services  Rancho Santa Fe      US   \n",
       "1  Accommodation & Food Services  Rancho Santa Fe      US   \n",
       "2  Accommodation & Food Services  Rancho Santa Fe      US   \n",
       "3  Accommodation & Food Services          Hanover      US   \n",
       "4  Accommodation & Food Services          Hanover      US   \n",
       "\n",
       "                                            keys   latitude  ...  \\\n",
       "0  us/ca/ranchosantafe/5921valenciacir/359754519  32.990959  ...   \n",
       "1  us/ca/ranchosantafe/5921valenciacir/359754519  32.990959  ...   \n",
       "2  us/ca/ranchosantafe/5921valenciacir/359754519  32.990959  ...   \n",
       "3         us/md/hanover/7520teaguerd/-2043779672  39.155929  ...   \n",
       "4         us/md/hanover/7520teaguerd/-2043779672  39.155929  ...   \n",
       "\n",
       "                                    reviews.dateSeen reviews.rating  \\\n",
       "0  2016-08-03T00:00:00Z,2016-07-26T00:00:00Z,2016...            5.0   \n",
       "1  2016-08-02T00:00:00Z,2016-08-26T00:00:00Z,2016...            5.0   \n",
       "2  2016-11-15T00:00:00Z,2016-08-23T00:00:00Z,2016...            5.0   \n",
       "3          2016-05-21T00:00:00Z,2016-07-31T00:00:00Z            2.0   \n",
       "4                               2016-07-31T00:00:00Z            5.0   \n",
       "\n",
       "                                  reviews.sourceURLs  \\\n",
       "0    https://www.hotels.com/hotel/125419/reviews%20/   \n",
       "1    https://www.hotels.com/hotel/125419/reviews%20/   \n",
       "2    https://www.hotels.com/hotel/125419/reviews%20/   \n",
       "3  https://www.tripadvisor.com/Hotel_Review-g4118...   \n",
       "4  https://www.tripadvisor.com/Hotel_Review-g4118...   \n",
       "\n",
       "                                        reviews.text  \\\n",
       "0  Our experience at Rancho Valencia was absolute...   \n",
       "1  Amazing place. Everyone was extremely warm and...   \n",
       "2  We booked a 3 night stay at Rancho Valencia to...   \n",
       "3  Currently in bed writing this for the past hr ...   \n",
       "4  I live in Md and the Aloft is my Home away fro...   \n",
       "\n",
       "                              reviews.title reviews.userCity  \\\n",
       "0           Best romantic vacation ever!!!!              NaN   \n",
       "1                      Sweet sweet serenity              NaN   \n",
       "2           Amazing Property and Experience              NaN   \n",
       "3  Never again...beware, if you want sleep.         Richmond   \n",
       "4                      ALWAYS GREAT STAY...           Laurel   \n",
       "\n",
       "   reviews.userProvince reviews.username  \\\n",
       "0                   NaN            Paula   \n",
       "1                   NaN                D   \n",
       "2                   NaN              Ron   \n",
       "3                    VA        jaeem2016   \n",
       "4                    MD       MamaNiaOne   \n",
       "\n",
       "                                          sourceURLs  \\\n",
       "0  http://www.hotels.com/ho125419/%25252525253Flo...   \n",
       "1  http://www.hotels.com/ho125419/%25252525253Flo...   \n",
       "2  http://www.hotels.com/ho125419/%25252525253Flo...   \n",
       "3  http://www.yellowbook.com/profile/aloft-arunde...   \n",
       "4  http://www.yellowbook.com/profile/aloft-arunde...   \n",
       "\n",
       "                                            websites  \n",
       "0                      http://www.ranchovalencia.com  \n",
       "1                      http://www.ranchovalencia.com  \n",
       "2                      http://www.ranchovalencia.com  \n",
       "3  http://www.starwoodhotels.com/alofthotels/prop...  \n",
       "4  http://www.starwoodhotels.com/alofthotels/prop...  \n",
       "\n",
       "[5 rows x 25 columns]"
      ]
     },
     "execution_count": 5,
     "metadata": {},
     "output_type": "execute_result"
    }
   ],
   "source": [
    "import pandas as pd\n",
    "\n",
    "df = pd.read_csv(\"datasets/Datafiniti_Hotel_Reviews.csv\")\n",
    "df.head()"
   ]
  },
  {
   "cell_type": "code",
   "execution_count": 6,
   "id": "fa16e2ad-1de3-43d0-bef6-ae119ef29205",
   "metadata": {},
   "outputs": [
    {
     "data": {
      "text/plain": [
       "Index(['id', 'dateAdded', 'dateUpdated', 'address', 'categories',\n",
       "       'primaryCategories', 'city', 'country', 'keys', 'latitude', 'longitude',\n",
       "       'name', 'postalCode', 'province', 'reviews.date', 'reviews.dateSeen',\n",
       "       'reviews.rating', 'reviews.sourceURLs', 'reviews.text', 'reviews.title',\n",
       "       'reviews.userCity', 'reviews.userProvince', 'reviews.username',\n",
       "       'sourceURLs', 'websites'],\n",
       "      dtype='object')"
      ]
     },
     "execution_count": 6,
     "metadata": {},
     "output_type": "execute_result"
    }
   ],
   "source": [
    "df.columns"
   ]
  },
  {
   "cell_type": "code",
   "execution_count": 7,
   "id": "268ba03e-f2ae-45c5-90df-c0f0093224dd",
   "metadata": {},
   "outputs": [
    {
     "data": {
      "text/plain": [
       "(10000, 25)"
      ]
     },
     "execution_count": 7,
     "metadata": {},
     "output_type": "execute_result"
    }
   ],
   "source": [
    "df.shape"
   ]
  },
  {
   "cell_type": "code",
   "execution_count": 8,
   "id": "15d98639",
   "metadata": {},
   "outputs": [],
   "source": [
    "df = df[['categories','city','name','reviews.rating','reviews.text','reviews.title','reviews.userCity']]"
   ]
  },
  {
   "cell_type": "code",
   "execution_count": 9,
   "id": "ee7275aa",
   "metadata": {},
   "outputs": [
    {
     "data": {
      "text/plain": [
       "Index(['categories', 'city', 'name', 'reviews.rating', 'reviews.text',\n",
       "       'reviews.title', 'reviews.userCity'],\n",
       "      dtype='object')"
      ]
     },
     "execution_count": 9,
     "metadata": {},
     "output_type": "execute_result"
    }
   ],
   "source": [
    "df.columns"
   ]
  },
  {
   "cell_type": "code",
   "execution_count": 10,
   "id": "b7007d55",
   "metadata": {},
   "outputs": [
    {
     "data": {
      "text/plain": [
       "(10000, 7)"
      ]
     },
     "execution_count": 10,
     "metadata": {},
     "output_type": "execute_result"
    }
   ],
   "source": [
    "df.shape"
   ]
  },
  {
   "cell_type": "code",
   "execution_count": 11,
   "id": "31e98ad6",
   "metadata": {},
   "outputs": [],
   "source": [
    "df =df.rename(columns={\n",
    "    'reviews.rating': \"rating\",\n",
    "    'reviews.text': \"text\",\n",
    "    'reviews.title': \"title\",\n",
    "    'reviews.userCity': \"userCity\"\n",
    "\n",
    "})"
   ]
  },
  {
   "cell_type": "code",
   "execution_count": 12,
   "id": "08666dcb",
   "metadata": {},
   "outputs": [
    {
     "data": {
      "text/plain": [
       "Index(['categories', 'city', 'name', 'rating', 'text', 'title', 'userCity'], dtype='object')"
      ]
     },
     "execution_count": 12,
     "metadata": {},
     "output_type": "execute_result"
    }
   ],
   "source": [
    "df.columns"
   ]
  },
  {
   "cell_type": "code",
   "execution_count": 13,
   "id": "f906f354",
   "metadata": {},
   "outputs": [
    {
     "data": {
      "text/plain": [
       "categories     object\n",
       "city           object\n",
       "name           object\n",
       "rating        float64\n",
       "text           object\n",
       "title          object\n",
       "userCity       object\n",
       "dtype: object"
      ]
     },
     "execution_count": 13,
     "metadata": {},
     "output_type": "execute_result"
    }
   ],
   "source": [
    "df.dtypes"
   ]
  },
  {
   "cell_type": "code",
   "execution_count": 14,
   "id": "787d8679",
   "metadata": {},
   "outputs": [],
   "source": [
    "df = df[df.rating < 3]"
   ]
  },
  {
   "cell_type": "code",
   "execution_count": 15,
   "id": "890c365f",
   "metadata": {},
   "outputs": [
    {
     "data": {
      "text/plain": [
       "(1253, 7)"
      ]
     },
     "execution_count": 15,
     "metadata": {},
     "output_type": "execute_result"
    }
   ],
   "source": [
    "df.shape"
   ]
  },
  {
   "cell_type": "code",
   "execution_count": 35,
   "id": "8425e042",
   "metadata": {},
   "outputs": [],
   "source": [
    "# Elegimos la muestra (analizar entre 1500 y 3000)\n",
    "#data = df.sample(1500, random_state=786).reset_index(drop=True)\n",
    "data = df\n",
    "\n"
   ]
  },
  {
   "cell_type": "code",
   "execution_count": 36,
   "id": "a0f5baec",
   "metadata": {
    "scrolled": true
   },
   "outputs": [
    {
     "data": {
      "text/html": [
       "<style type=\"text/css\">\n",
       "</style>\n",
       "<table id=\"T_24a36\">\n",
       "  <thead>\n",
       "    <tr>\n",
       "      <th id=\"T_24a36_level0_col0\" class=\"col_heading level0 col0\" >Description</th>\n",
       "      <th id=\"T_24a36_level0_col1\" class=\"col_heading level0 col1\" >Value</th>\n",
       "    </tr>\n",
       "  </thead>\n",
       "  <tbody>\n",
       "    <tr>\n",
       "      <td id=\"T_24a36_row0_col0\" class=\"data row0 col0\" >session_id</td>\n",
       "      <td id=\"T_24a36_row0_col1\" class=\"data row0 col1\" >123</td>\n",
       "    </tr>\n",
       "    <tr>\n",
       "      <td id=\"T_24a36_row1_col0\" class=\"data row1 col0\" >Documents</td>\n",
       "      <td id=\"T_24a36_row1_col1\" class=\"data row1 col1\" >1253</td>\n",
       "    </tr>\n",
       "    <tr>\n",
       "      <td id=\"T_24a36_row2_col0\" class=\"data row2 col0\" >Vocab Size</td>\n",
       "      <td id=\"T_24a36_row2_col1\" class=\"data row2 col1\" >4019</td>\n",
       "    </tr>\n",
       "    <tr>\n",
       "      <td id=\"T_24a36_row3_col0\" class=\"data row3 col0\" >Custom Stopwords</td>\n",
       "      <td id=\"T_24a36_row3_col1\" class=\"data row3 col1\" >True</td>\n",
       "    </tr>\n",
       "  </tbody>\n",
       "</table>\n"
      ],
      "text/plain": [
       "<pandas.io.formats.style.Styler at 0x7ff04511ef40>"
      ]
     },
     "metadata": {},
     "output_type": "display_data"
    }
   ],
   "source": [
    "stop_words=[ 'und', 'room', 'hotel', 'stay', 'good', 'bad', 'der', 'great', 'go', 'lot', 'staff']\n",
    "\n",
    "exp_nlp101 = setup(data = data, target = 'text', session_id = 123, verbose=True, custom_stopwords=stop_words)"
   ]
  },
  {
   "cell_type": "markdown",
   "id": "d8dc0db3",
   "metadata": {},
   "source": [
    "<a id = \"1.0\"></a>\n",
    "<p style=\"font-size:20px;color:#34656d;font-family:'Comic Sans MS';text-align:left;border-radius:5px;\">\n",
    "<strong>Listado de modelos</strong></p>"
   ]
  },
  {
   "cell_type": "code",
   "execution_count": 37,
   "id": "3fecca15",
   "metadata": {},
   "outputs": [
    {
     "data": {
      "text/html": [
       "<div>\n",
       "<style scoped>\n",
       "    .dataframe tbody tr th:only-of-type {\n",
       "        vertical-align: middle;\n",
       "    }\n",
       "\n",
       "    .dataframe tbody tr th {\n",
       "        vertical-align: top;\n",
       "    }\n",
       "\n",
       "    .dataframe thead th {\n",
       "        text-align: right;\n",
       "    }\n",
       "</style>\n",
       "<table border=\"1\" class=\"dataframe\">\n",
       "  <thead>\n",
       "    <tr style=\"text-align: right;\">\n",
       "      <th></th>\n",
       "      <th>Name</th>\n",
       "      <th>Reference</th>\n",
       "    </tr>\n",
       "    <tr>\n",
       "      <th>ID</th>\n",
       "      <th></th>\n",
       "      <th></th>\n",
       "    </tr>\n",
       "  </thead>\n",
       "  <tbody>\n",
       "    <tr>\n",
       "      <th>lda</th>\n",
       "      <td>Latent Dirichlet Allocation</td>\n",
       "      <td>gensim/models/ldamodel</td>\n",
       "    </tr>\n",
       "    <tr>\n",
       "      <th>lsi</th>\n",
       "      <td>Latent Semantic Indexing</td>\n",
       "      <td>gensim/models/lsimodel</td>\n",
       "    </tr>\n",
       "    <tr>\n",
       "      <th>hdp</th>\n",
       "      <td>Hierarchical Dirichlet Process</td>\n",
       "      <td>gensim/models/hdpmodel</td>\n",
       "    </tr>\n",
       "    <tr>\n",
       "      <th>rp</th>\n",
       "      <td>Random Projections</td>\n",
       "      <td>gensim/models/rpmodel</td>\n",
       "    </tr>\n",
       "    <tr>\n",
       "      <th>nmf</th>\n",
       "      <td>Non-Negative Matrix Factorization</td>\n",
       "      <td>sklearn.decomposition.NMF</td>\n",
       "    </tr>\n",
       "  </tbody>\n",
       "</table>\n",
       "</div>"
      ],
      "text/plain": [
       "                                  Name                  Reference\n",
       "ID                                                               \n",
       "lda        Latent Dirichlet Allocation     gensim/models/ldamodel\n",
       "lsi           Latent Semantic Indexing     gensim/models/lsimodel\n",
       "hdp     Hierarchical Dirichlet Process     gensim/models/hdpmodel\n",
       "rp                  Random Projections      gensim/models/rpmodel\n",
       "nmf  Non-Negative Matrix Factorization  sklearn.decomposition.NMF"
      ]
     },
     "execution_count": 37,
     "metadata": {},
     "output_type": "execute_result"
    }
   ],
   "source": [
    "models()"
   ]
  },
  {
   "cell_type": "markdown",
   "id": "5d0dcd52",
   "metadata": {},
   "source": [
    "<a id = \"1.0\"></a>\n",
    "<p style=\"font-size:20px;color:#34656d;font-family:'Comic Sans MS';text-align:left;border-radius:5px;\">\n",
    "<strong>Entrenar LDA con 4 tópicos</strong></p>"
   ]
  },
  {
   "cell_type": "code",
   "execution_count": 38,
   "id": "3537d1a7",
   "metadata": {},
   "outputs": [],
   "source": [
    "lda = create_model(model='lda', num_topics=4, verbose=True)"
   ]
  },
  {
   "cell_type": "code",
   "execution_count": 39,
   "id": "90037a5e",
   "metadata": {},
   "outputs": [
    {
     "name": "stdout",
     "output_type": "stream",
     "text": [
      "LdaModel(num_terms=4019, num_topics=4, decay=0.5, chunksize=100)\n"
     ]
    }
   ],
   "source": [
    "print(lda)"
   ]
  },
  {
   "cell_type": "markdown",
   "id": "14e49b64",
   "metadata": {},
   "source": [
    "<a id = \"1.0\"></a>\n",
    "<p style=\"font-size:20px;color:#34656d;font-family:'Comic Sans MS';text-align:left;border-radius:5px;\">\n",
    "<strong>Asignar resultado</strong></p>"
   ]
  },
  {
   "cell_type": "code",
   "execution_count": 40,
   "id": "67540378",
   "metadata": {},
   "outputs": [],
   "source": [
    "lda_results = assign_model(lda)"
   ]
  },
  {
   "cell_type": "code",
   "execution_count": 41,
   "id": "64558bb7",
   "metadata": {},
   "outputs": [
    {
     "data": {
      "text/html": [
       "<div>\n",
       "<style scoped>\n",
       "    .dataframe tbody tr th:only-of-type {\n",
       "        vertical-align: middle;\n",
       "    }\n",
       "\n",
       "    .dataframe tbody tr th {\n",
       "        vertical-align: top;\n",
       "    }\n",
       "\n",
       "    .dataframe thead th {\n",
       "        text-align: right;\n",
       "    }\n",
       "</style>\n",
       "<table border=\"1\" class=\"dataframe\">\n",
       "  <thead>\n",
       "    <tr style=\"text-align: right;\">\n",
       "      <th></th>\n",
       "      <th>categories</th>\n",
       "      <th>city</th>\n",
       "      <th>name</th>\n",
       "      <th>rating</th>\n",
       "      <th>text</th>\n",
       "      <th>title</th>\n",
       "      <th>userCity</th>\n",
       "      <th>Topic_0</th>\n",
       "      <th>Topic_1</th>\n",
       "      <th>Topic_2</th>\n",
       "      <th>Topic_3</th>\n",
       "      <th>Dominant_Topic</th>\n",
       "      <th>Perc_Dominant_Topic</th>\n",
       "    </tr>\n",
       "  </thead>\n",
       "  <tbody>\n",
       "    <tr>\n",
       "      <th>3</th>\n",
       "      <td>Hotels,Hotels and motels,Travel agencies and b...</td>\n",
       "      <td>Hanover</td>\n",
       "      <td>Aloft Arundel Mills</td>\n",
       "      <td>2.0</td>\n",
       "      <td>currently bed writing dog bark squeal call fro...</td>\n",
       "      <td>Never again...beware, if you want sleep.</td>\n",
       "      <td>Richmond</td>\n",
       "      <td>0.109636</td>\n",
       "      <td>0.144648</td>\n",
       "      <td>0.378656</td>\n",
       "      <td>0.367060</td>\n",
       "      <td>Topic 2</td>\n",
       "      <td>0.38</td>\n",
       "    </tr>\n",
       "    <tr>\n",
       "      <th>26</th>\n",
       "      <td>Hotels and motels,Hotel and motel reservations...</td>\n",
       "      <td>Vineland</td>\n",
       "      <td>EconoLodge</td>\n",
       "      <td>1.0</td>\n",
       "      <td>get bait switch decide rather anywhere else su...</td>\n",
       "      <td>DO NOT stay here!!!!!!!!!!!</td>\n",
       "      <td>NaN</td>\n",
       "      <td>0.165404</td>\n",
       "      <td>0.526281</td>\n",
       "      <td>0.256844</td>\n",
       "      <td>0.051471</td>\n",
       "      <td>Topic 1</td>\n",
       "      <td>0.53</td>\n",
       "    </tr>\n",
       "    <tr>\n",
       "      <th>27</th>\n",
       "      <td>Hotels and motels,Hotel and motel reservations...</td>\n",
       "      <td>Vineland</td>\n",
       "      <td>EconoLodge</td>\n",
       "      <td>1.0</td>\n",
       "      <td>hit vineland power charge night accept aaa car...</td>\n",
       "      <td>Filthy hotel and crooked people who own it!</td>\n",
       "      <td>Vineland</td>\n",
       "      <td>0.097313</td>\n",
       "      <td>0.205954</td>\n",
       "      <td>0.488757</td>\n",
       "      <td>0.207976</td>\n",
       "      <td>Topic 2</td>\n",
       "      <td>0.49</td>\n",
       "    </tr>\n",
       "    <tr>\n",
       "      <th>30</th>\n",
       "      <td>Hotels,Corporate Lodging,Lodging,Hotel</td>\n",
       "      <td>Oxon Hill</td>\n",
       "      <td>Hampton Inn Suites National HarborAlexandria Area</td>\n",
       "      <td>2.0</td>\n",
       "      <td>heat work properly tv remote broken excessive ...</td>\n",
       "      <td>Hampton Inn</td>\n",
       "      <td>NaN</td>\n",
       "      <td>0.037900</td>\n",
       "      <td>0.384320</td>\n",
       "      <td>0.216107</td>\n",
       "      <td>0.361673</td>\n",
       "      <td>Topic 1</td>\n",
       "      <td>0.38</td>\n",
       "    </tr>\n",
       "    <tr>\n",
       "      <th>102</th>\n",
       "      <td>Hotels,Hotel</td>\n",
       "      <td>Boston</td>\n",
       "      <td>The Boxer</td>\n",
       "      <td>2.5</td>\n",
       "      <td>helpful one try come clean several night small...</td>\n",
       "      <td>Poor hotel option. More like a poor 3 star.</td>\n",
       "      <td>NaN</td>\n",
       "      <td>0.025440</td>\n",
       "      <td>0.845691</td>\n",
       "      <td>0.114474</td>\n",
       "      <td>0.014395</td>\n",
       "      <td>Topic 1</td>\n",
       "      <td>0.85</td>\n",
       "    </tr>\n",
       "  </tbody>\n",
       "</table>\n",
       "</div>"
      ],
      "text/plain": [
       "                                            categories       city  \\\n",
       "3    Hotels,Hotels and motels,Travel agencies and b...    Hanover   \n",
       "26   Hotels and motels,Hotel and motel reservations...   Vineland   \n",
       "27   Hotels and motels,Hotel and motel reservations...   Vineland   \n",
       "30              Hotels,Corporate Lodging,Lodging,Hotel  Oxon Hill   \n",
       "102                                       Hotels,Hotel     Boston   \n",
       "\n",
       "                                                  name  rating  \\\n",
       "3                                  Aloft Arundel Mills     2.0   \n",
       "26                                          EconoLodge     1.0   \n",
       "27                                          EconoLodge     1.0   \n",
       "30   Hampton Inn Suites National HarborAlexandria Area     2.0   \n",
       "102                                          The Boxer     2.5   \n",
       "\n",
       "                                                  text  \\\n",
       "3    currently bed writing dog bark squeal call fro...   \n",
       "26   get bait switch decide rather anywhere else su...   \n",
       "27   hit vineland power charge night accept aaa car...   \n",
       "30   heat work properly tv remote broken excessive ...   \n",
       "102  helpful one try come clean several night small...   \n",
       "\n",
       "                                           title  userCity   Topic_0  \\\n",
       "3       Never again...beware, if you want sleep.  Richmond  0.109636   \n",
       "26                   DO NOT stay here!!!!!!!!!!!       NaN  0.165404   \n",
       "27   Filthy hotel and crooked people who own it!  Vineland  0.097313   \n",
       "30                                   Hampton Inn       NaN  0.037900   \n",
       "102  Poor hotel option. More like a poor 3 star.       NaN  0.025440   \n",
       "\n",
       "      Topic_1   Topic_2   Topic_3 Dominant_Topic  Perc_Dominant_Topic  \n",
       "3    0.144648  0.378656  0.367060        Topic 2                 0.38  \n",
       "26   0.526281  0.256844  0.051471        Topic 1                 0.53  \n",
       "27   0.205954  0.488757  0.207976        Topic 2                 0.49  \n",
       "30   0.384320  0.216107  0.361673        Topic 1                 0.38  \n",
       "102  0.845691  0.114474  0.014395        Topic 1                 0.85  "
      ]
     },
     "execution_count": 41,
     "metadata": {},
     "output_type": "execute_result"
    }
   ],
   "source": [
    "lda_results.head()"
   ]
  },
  {
   "cell_type": "markdown",
   "id": "4546e06b",
   "metadata": {},
   "source": [
    "<a id = \"1.0\"></a>\n",
    "<p style=\"font-size:20px;color:#34656d;font-family:'Comic Sans MS';text-align:left;border-radius:5px;\">\n",
    "<strong>Optimizar el modelo (alternativo)</strong></p>"
   ]
  },
  {
   "cell_type": "code",
   "execution_count": 42,
   "id": "0201b805",
   "metadata": {},
   "outputs": [],
   "source": [
    "#tuned_lda = tune_model(model='lda', estimator='knn', optimize='Accuracy')"
   ]
  },
  {
   "cell_type": "markdown",
   "id": "a888a10e",
   "metadata": {},
   "source": [
    "<a id = \"1.0\"></a>\n",
    "<p style=\"font-size:20px;color:#34656d;font-family:'Comic Sans MS';text-align:left;border-radius:5px;\">\n",
    "<strong>Visualización</strong></p>"
   ]
  },
  {
   "cell_type": "code",
   "execution_count": 43,
   "id": "e2d3fd0e",
   "metadata": {},
   "outputs": [
    {
     "data": {
      "text/html": [
       "        <script type=\"text/javascript\">\n",
       "        window.PlotlyConfig = {MathJaxConfig: 'local'};\n",
       "        if (window.MathJax && window.MathJax.Hub && window.MathJax.Hub.Config) {window.MathJax.Hub.Config({SVG: {font: \"STIX-Web\"}});}\n",
       "        if (typeof require !== 'undefined') {\n",
       "        require.undef(\"plotly\");\n",
       "        requirejs.config({\n",
       "            paths: {\n",
       "                'plotly': ['https://cdn.plot.ly/plotly-2.16.1.min']\n",
       "            }\n",
       "        });\n",
       "        require(['plotly'], function(Plotly) {\n",
       "            window._Plotly = Plotly;\n",
       "        });\n",
       "        }\n",
       "        </script>\n",
       "        "
      ]
     },
     "metadata": {},
     "output_type": "display_data"
    },
    {
     "ename": "AssertionError",
     "evalue": "",
     "output_type": "error",
     "traceback": [
      "\u001b[0;31m---------------------------------------------------------------------------\u001b[0m",
      "\u001b[0;31mValueError\u001b[0m                                Traceback (most recent call last)",
      "File \u001b[0;32m/usr/local/anaconda3/envs/env-nico-p3.8/lib/python3.8/site-packages/pycaret/nlp.py:2197\u001b[0m, in \u001b[0;36mplot_model\u001b[0;34m(model, plot, topic_num, save, system, display_format)\u001b[0m\n\u001b[1;32m   2194\u001b[0m filtered_df \u001b[38;5;241m=\u001b[39m assigned_df\u001b[38;5;241m.\u001b[39mloc[\n\u001b[1;32m   2195\u001b[0m     assigned_df[\u001b[38;5;124m\"\u001b[39m\u001b[38;5;124mDominant_Topic\u001b[39m\u001b[38;5;124m\"\u001b[39m] \u001b[38;5;241m==\u001b[39m topic_num\n\u001b[1;32m   2196\u001b[0m ]\n\u001b[0;32m-> 2197\u001b[0m common_words \u001b[38;5;241m=\u001b[39m \u001b[43mget_top_n_words\u001b[49m\u001b[43m(\u001b[49m\u001b[43mfiltered_df\u001b[49m\u001b[43m[\u001b[49m\u001b[43mtarget_\u001b[49m\u001b[43m]\u001b[49m\u001b[43m,\u001b[49m\u001b[43m \u001b[49m\u001b[43mn\u001b[49m\u001b[38;5;241;43m=\u001b[39;49m\u001b[38;5;241;43m100\u001b[39;49m\u001b[43m)\u001b[49m\n\u001b[1;32m   2198\u001b[0m df2 \u001b[38;5;241m=\u001b[39m pd\u001b[38;5;241m.\u001b[39mDataFrame(common_words, columns\u001b[38;5;241m=\u001b[39m[\u001b[38;5;124m\"\u001b[39m\u001b[38;5;124mText\u001b[39m\u001b[38;5;124m\"\u001b[39m, \u001b[38;5;124m\"\u001b[39m\u001b[38;5;124mcount\u001b[39m\u001b[38;5;124m\"\u001b[39m])\n",
      "File \u001b[0;32m/usr/local/anaconda3/envs/env-nico-p3.8/lib/python3.8/site-packages/pycaret/nlp.py:2138\u001b[0m, in \u001b[0;36mplot_model.<locals>.get_top_n_words\u001b[0;34m(corpus, n)\u001b[0m\n\u001b[1;32m   2137\u001b[0m logger\u001b[38;5;241m.\u001b[39minfo(\u001b[38;5;124m\"\u001b[39m\u001b[38;5;124mFitting CountVectorizer()\u001b[39m\u001b[38;5;124m\"\u001b[39m)\n\u001b[0;32m-> 2138\u001b[0m bag_of_words \u001b[38;5;241m=\u001b[39m \u001b[43mvec\u001b[49m\u001b[38;5;241;43m.\u001b[39;49m\u001b[43mfit_transform\u001b[49m\u001b[43m(\u001b[49m\u001b[43mcorpus\u001b[49m\u001b[43m)\u001b[49m\n\u001b[1;32m   2139\u001b[0m sum_words \u001b[38;5;241m=\u001b[39m bag_of_words\u001b[38;5;241m.\u001b[39msum(axis\u001b[38;5;241m=\u001b[39m\u001b[38;5;241m0\u001b[39m)\n",
      "File \u001b[0;32m/usr/local/anaconda3/envs/env-nico-p3.8/lib/python3.8/site-packages/sklearn/feature_extraction/text.py:1198\u001b[0m, in \u001b[0;36mCountVectorizer.fit_transform\u001b[0;34m(self, raw_documents, y)\u001b[0m\n\u001b[1;32m   1196\u001b[0m max_features \u001b[38;5;241m=\u001b[39m \u001b[38;5;28mself\u001b[39m\u001b[38;5;241m.\u001b[39mmax_features\n\u001b[0;32m-> 1198\u001b[0m vocabulary, X \u001b[38;5;241m=\u001b[39m \u001b[38;5;28;43mself\u001b[39;49m\u001b[38;5;241;43m.\u001b[39;49m\u001b[43m_count_vocab\u001b[49m\u001b[43m(\u001b[49m\u001b[43mraw_documents\u001b[49m\u001b[43m,\u001b[49m\n\u001b[1;32m   1199\u001b[0m \u001b[43m                                  \u001b[49m\u001b[38;5;28;43mself\u001b[39;49m\u001b[38;5;241;43m.\u001b[39;49m\u001b[43mfixed_vocabulary_\u001b[49m\u001b[43m)\u001b[49m\n\u001b[1;32m   1201\u001b[0m \u001b[38;5;28;01mif\u001b[39;00m \u001b[38;5;28mself\u001b[39m\u001b[38;5;241m.\u001b[39mbinary:\n",
      "File \u001b[0;32m/usr/local/anaconda3/envs/env-nico-p3.8/lib/python3.8/site-packages/sklearn/feature_extraction/text.py:1110\u001b[0m, in \u001b[0;36mCountVectorizer._count_vocab\u001b[0;34m(self, raw_documents, fixed_vocab)\u001b[0m\n\u001b[1;32m   1109\u001b[0m feature_counter \u001b[38;5;241m=\u001b[39m {}\n\u001b[0;32m-> 1110\u001b[0m \u001b[38;5;28;01mfor\u001b[39;00m feature \u001b[38;5;129;01min\u001b[39;00m \u001b[43manalyze\u001b[49m\u001b[43m(\u001b[49m\u001b[43mdoc\u001b[49m\u001b[43m)\u001b[49m:\n\u001b[1;32m   1111\u001b[0m     \u001b[38;5;28;01mtry\u001b[39;00m:\n",
      "File \u001b[0;32m/usr/local/anaconda3/envs/env-nico-p3.8/lib/python3.8/site-packages/sklearn/feature_extraction/text.py:99\u001b[0m, in \u001b[0;36m_analyze\u001b[0;34m(doc, analyzer, tokenizer, ngrams, preprocessor, decoder, stop_words)\u001b[0m\n\u001b[1;32m     98\u001b[0m \u001b[38;5;28;01mif\u001b[39;00m decoder \u001b[38;5;129;01mis\u001b[39;00m \u001b[38;5;129;01mnot\u001b[39;00m \u001b[38;5;28;01mNone\u001b[39;00m:\n\u001b[0;32m---> 99\u001b[0m     doc \u001b[38;5;241m=\u001b[39m \u001b[43mdecoder\u001b[49m\u001b[43m(\u001b[49m\u001b[43mdoc\u001b[49m\u001b[43m)\u001b[49m\n\u001b[1;32m    100\u001b[0m \u001b[38;5;28;01mif\u001b[39;00m analyzer \u001b[38;5;129;01mis\u001b[39;00m \u001b[38;5;129;01mnot\u001b[39;00m \u001b[38;5;28;01mNone\u001b[39;00m:\n",
      "File \u001b[0;32m/usr/local/anaconda3/envs/env-nico-p3.8/lib/python3.8/site-packages/sklearn/feature_extraction/text.py:219\u001b[0m, in \u001b[0;36m_VectorizerMixin.decode\u001b[0;34m(self, doc)\u001b[0m\n\u001b[1;32m    218\u001b[0m \u001b[38;5;28;01mif\u001b[39;00m doc \u001b[38;5;129;01mis\u001b[39;00m np\u001b[38;5;241m.\u001b[39mnan:\n\u001b[0;32m--> 219\u001b[0m     \u001b[38;5;28;01mraise\u001b[39;00m \u001b[38;5;167;01mValueError\u001b[39;00m(\u001b[38;5;124m\"\u001b[39m\u001b[38;5;124mnp.nan is an invalid document, expected byte or \u001b[39m\u001b[38;5;124m\"\u001b[39m\n\u001b[1;32m    220\u001b[0m                      \u001b[38;5;124m\"\u001b[39m\u001b[38;5;124municode string.\u001b[39m\u001b[38;5;124m\"\u001b[39m)\n\u001b[1;32m    222\u001b[0m \u001b[38;5;28;01mreturn\u001b[39;00m doc\n",
      "\u001b[0;31mValueError\u001b[0m: np.nan is an invalid document, expected byte or unicode string.",
      "\nDuring handling of the above exception, another exception occurred:\n",
      "\u001b[0;31mSystemExit\u001b[0m                                Traceback (most recent call last)",
      "    \u001b[0;31m[... skipping hidden 1 frame]\u001b[0m\n",
      "Cell \u001b[0;32mIn [43], line 1\u001b[0m\n\u001b[0;32m----> 1\u001b[0m \u001b[43mplot_model\u001b[49m\u001b[43m(\u001b[49m\u001b[43mmodel\u001b[49m\u001b[38;5;241;43m=\u001b[39;49m\u001b[43mlda\u001b[49m\u001b[43m,\u001b[49m\u001b[43m \u001b[49m\u001b[43mplot\u001b[49m\u001b[38;5;241;43m=\u001b[39;49m\u001b[38;5;124;43m'\u001b[39;49m\u001b[38;5;124;43mfrequency\u001b[39;49m\u001b[38;5;124;43m'\u001b[39;49m\u001b[43m)\u001b[49m\n",
      "File \u001b[0;32m/usr/local/anaconda3/envs/env-nico-p3.8/lib/python3.8/site-packages/pycaret/nlp.py:2244\u001b[0m, in \u001b[0;36mplot_model\u001b[0;34m(model, plot, topic_num, save, system, display_format)\u001b[0m\n\u001b[1;32m   2241\u001b[0m         logger\u001b[38;5;241m.\u001b[39mwarning(\n\u001b[1;32m   2242\u001b[0m             \u001b[38;5;124m\"\u001b[39m\u001b[38;5;124mInvalid topic_num param or empty Vocab. Try changing Topic Number.\u001b[39m\u001b[38;5;124m\"\u001b[39m\n\u001b[1;32m   2243\u001b[0m         )\n\u001b[0;32m-> 2244\u001b[0m         \u001b[43msys\u001b[49m\u001b[38;5;241;43m.\u001b[39;49m\u001b[43mexit\u001b[49m\u001b[43m(\u001b[49m\n\u001b[1;32m   2245\u001b[0m \u001b[43m            \u001b[49m\u001b[38;5;124;43m\"\u001b[39;49m\u001b[38;5;124;43m(Value Error): Invalid topic_num param or empty Vocab. Try changing Topic Number.\u001b[39;49m\u001b[38;5;124;43m\"\u001b[39;49m\n\u001b[1;32m   2246\u001b[0m \u001b[43m        \u001b[49m\u001b[43m)\u001b[49m\n\u001b[1;32m   2248\u001b[0m \u001b[38;5;28;01melif\u001b[39;00m plot \u001b[38;5;241m==\u001b[39m \u001b[38;5;124m\"\u001b[39m\u001b[38;5;124mdistribution\u001b[39m\u001b[38;5;124m\"\u001b[39m:\n",
      "\u001b[0;31mSystemExit\u001b[0m: (Value Error): Invalid topic_num param or empty Vocab. Try changing Topic Number.",
      "\nDuring handling of the above exception, another exception occurred:\n",
      "\u001b[0;31mAssertionError\u001b[0m                            Traceback (most recent call last)",
      "    \u001b[0;31m[... skipping hidden 1 frame]\u001b[0m\n",
      "File \u001b[0;32m/usr/local/anaconda3/envs/env-nico-p3.8/lib/python3.8/site-packages/IPython/core/interactiveshell.py:2042\u001b[0m, in \u001b[0;36mInteractiveShell.showtraceback\u001b[0;34m(self, exc_tuple, filename, tb_offset, exception_only, running_compiled_code)\u001b[0m\n\u001b[1;32m   2039\u001b[0m \u001b[38;5;28;01mif\u001b[39;00m exception_only:\n\u001b[1;32m   2040\u001b[0m     stb \u001b[38;5;241m=\u001b[39m [\u001b[38;5;124m'\u001b[39m\u001b[38;5;124mAn exception has occurred, use \u001b[39m\u001b[38;5;124m%\u001b[39m\u001b[38;5;124mtb to see \u001b[39m\u001b[38;5;124m'\u001b[39m\n\u001b[1;32m   2041\u001b[0m            \u001b[38;5;124m'\u001b[39m\u001b[38;5;124mthe full traceback.\u001b[39m\u001b[38;5;130;01m\\n\u001b[39;00m\u001b[38;5;124m'\u001b[39m]\n\u001b[0;32m-> 2042\u001b[0m     stb\u001b[38;5;241m.\u001b[39mextend(\u001b[38;5;28;43mself\u001b[39;49m\u001b[38;5;241;43m.\u001b[39;49m\u001b[43mInteractiveTB\u001b[49m\u001b[38;5;241;43m.\u001b[39;49m\u001b[43mget_exception_only\u001b[49m\u001b[43m(\u001b[49m\u001b[43metype\u001b[49m\u001b[43m,\u001b[49m\n\u001b[1;32m   2043\u001b[0m \u001b[43m                                                     \u001b[49m\u001b[43mvalue\u001b[49m\u001b[43m)\u001b[49m)\n\u001b[1;32m   2044\u001b[0m \u001b[38;5;28;01melse\u001b[39;00m:\n\u001b[1;32m   2045\u001b[0m     \u001b[38;5;28;01mtry\u001b[39;00m:\n\u001b[1;32m   2046\u001b[0m         \u001b[38;5;66;03m# Exception classes can customise their traceback - we\u001b[39;00m\n\u001b[1;32m   2047\u001b[0m         \u001b[38;5;66;03m# use this in IPython.parallel for exceptions occurring\u001b[39;00m\n\u001b[1;32m   2048\u001b[0m         \u001b[38;5;66;03m# in the engines. This should return a list of strings.\u001b[39;00m\n",
      "File \u001b[0;32m/usr/local/anaconda3/envs/env-nico-p3.8/lib/python3.8/site-packages/IPython/core/ultratb.py:579\u001b[0m, in \u001b[0;36mListTB.get_exception_only\u001b[0;34m(self, etype, value)\u001b[0m\n\u001b[1;32m    571\u001b[0m \u001b[38;5;28;01mdef\u001b[39;00m \u001b[38;5;21mget_exception_only\u001b[39m(\u001b[38;5;28mself\u001b[39m, etype, value):\n\u001b[1;32m    572\u001b[0m     \u001b[38;5;124;03m\"\"\"Only print the exception type and message, without a traceback.\u001b[39;00m\n\u001b[1;32m    573\u001b[0m \n\u001b[1;32m    574\u001b[0m \u001b[38;5;124;03m    Parameters\u001b[39;00m\n\u001b[0;32m   (...)\u001b[0m\n\u001b[1;32m    577\u001b[0m \u001b[38;5;124;03m    value : exception value\u001b[39;00m\n\u001b[1;32m    578\u001b[0m \u001b[38;5;124;03m    \"\"\"\u001b[39;00m\n\u001b[0;32m--> 579\u001b[0m     \u001b[38;5;28;01mreturn\u001b[39;00m \u001b[43mListTB\u001b[49m\u001b[38;5;241;43m.\u001b[39;49m\u001b[43mstructured_traceback\u001b[49m\u001b[43m(\u001b[49m\u001b[38;5;28;43mself\u001b[39;49m\u001b[43m,\u001b[49m\u001b[43m \u001b[49m\u001b[43metype\u001b[49m\u001b[43m,\u001b[49m\u001b[43m \u001b[49m\u001b[43mvalue\u001b[49m\u001b[43m)\u001b[49m\n",
      "File \u001b[0;32m/usr/local/anaconda3/envs/env-nico-p3.8/lib/python3.8/site-packages/IPython/core/ultratb.py:446\u001b[0m, in \u001b[0;36mListTB.structured_traceback\u001b[0;34m(self, etype, evalue, etb, tb_offset, context)\u001b[0m\n\u001b[1;32m    443\u001b[0m     chained_exc_ids\u001b[38;5;241m.\u001b[39madd(\u001b[38;5;28mid\u001b[39m(exception[\u001b[38;5;241m1\u001b[39m]))\n\u001b[1;32m    444\u001b[0m     chained_exceptions_tb_offset \u001b[38;5;241m=\u001b[39m \u001b[38;5;241m0\u001b[39m\n\u001b[1;32m    445\u001b[0m     out_list \u001b[38;5;241m=\u001b[39m (\n\u001b[0;32m--> 446\u001b[0m         \u001b[38;5;28;43mself\u001b[39;49m\u001b[38;5;241;43m.\u001b[39;49m\u001b[43mstructured_traceback\u001b[49m\u001b[43m(\u001b[49m\n\u001b[1;32m    447\u001b[0m \u001b[43m            \u001b[49m\u001b[43metype\u001b[49m\u001b[43m,\u001b[49m\u001b[43m \u001b[49m\u001b[43mevalue\u001b[49m\u001b[43m,\u001b[49m\u001b[43m \u001b[49m\u001b[43m(\u001b[49m\u001b[43metb\u001b[49m\u001b[43m,\u001b[49m\u001b[43m \u001b[49m\u001b[43mchained_exc_ids\u001b[49m\u001b[43m)\u001b[49m\u001b[43m,\u001b[49m\n\u001b[1;32m    448\u001b[0m \u001b[43m            \u001b[49m\u001b[43mchained_exceptions_tb_offset\u001b[49m\u001b[43m,\u001b[49m\u001b[43m \u001b[49m\u001b[43mcontext\u001b[49m\u001b[43m)\u001b[49m\n\u001b[1;32m    449\u001b[0m         \u001b[38;5;241m+\u001b[39m chained_exception_message\n\u001b[1;32m    450\u001b[0m         \u001b[38;5;241m+\u001b[39m out_list)\n\u001b[1;32m    452\u001b[0m \u001b[38;5;28;01mreturn\u001b[39;00m out_list\n",
      "File \u001b[0;32m/usr/local/anaconda3/envs/env-nico-p3.8/lib/python3.8/site-packages/IPython/core/ultratb.py:1112\u001b[0m, in \u001b[0;36mAutoFormattedTB.structured_traceback\u001b[0;34m(self, etype, value, tb, tb_offset, number_of_lines_of_context)\u001b[0m\n\u001b[1;32m   1110\u001b[0m \u001b[38;5;28;01melse\u001b[39;00m:\n\u001b[1;32m   1111\u001b[0m     \u001b[38;5;28mself\u001b[39m\u001b[38;5;241m.\u001b[39mtb \u001b[38;5;241m=\u001b[39m tb\n\u001b[0;32m-> 1112\u001b[0m \u001b[38;5;28;01mreturn\u001b[39;00m \u001b[43mFormattedTB\u001b[49m\u001b[38;5;241;43m.\u001b[39;49m\u001b[43mstructured_traceback\u001b[49m\u001b[43m(\u001b[49m\n\u001b[1;32m   1113\u001b[0m \u001b[43m    \u001b[49m\u001b[38;5;28;43mself\u001b[39;49m\u001b[43m,\u001b[49m\u001b[43m \u001b[49m\u001b[43metype\u001b[49m\u001b[43m,\u001b[49m\u001b[43m \u001b[49m\u001b[43mvalue\u001b[49m\u001b[43m,\u001b[49m\u001b[43m \u001b[49m\u001b[43mtb\u001b[49m\u001b[43m,\u001b[49m\u001b[43m \u001b[49m\u001b[43mtb_offset\u001b[49m\u001b[43m,\u001b[49m\u001b[43m \u001b[49m\u001b[43mnumber_of_lines_of_context\u001b[49m\u001b[43m)\u001b[49m\n",
      "File \u001b[0;32m/usr/local/anaconda3/envs/env-nico-p3.8/lib/python3.8/site-packages/IPython/core/ultratb.py:1006\u001b[0m, in \u001b[0;36mFormattedTB.structured_traceback\u001b[0;34m(self, etype, value, tb, tb_offset, number_of_lines_of_context)\u001b[0m\n\u001b[1;32m   1003\u001b[0m mode \u001b[38;5;241m=\u001b[39m \u001b[38;5;28mself\u001b[39m\u001b[38;5;241m.\u001b[39mmode\n\u001b[1;32m   1004\u001b[0m \u001b[38;5;28;01mif\u001b[39;00m mode \u001b[38;5;129;01min\u001b[39;00m \u001b[38;5;28mself\u001b[39m\u001b[38;5;241m.\u001b[39mverbose_modes:\n\u001b[1;32m   1005\u001b[0m     \u001b[38;5;66;03m# Verbose modes need a full traceback\u001b[39;00m\n\u001b[0;32m-> 1006\u001b[0m     \u001b[38;5;28;01mreturn\u001b[39;00m \u001b[43mVerboseTB\u001b[49m\u001b[38;5;241;43m.\u001b[39;49m\u001b[43mstructured_traceback\u001b[49m\u001b[43m(\u001b[49m\n\u001b[1;32m   1007\u001b[0m \u001b[43m        \u001b[49m\u001b[38;5;28;43mself\u001b[39;49m\u001b[43m,\u001b[49m\u001b[43m \u001b[49m\u001b[43metype\u001b[49m\u001b[43m,\u001b[49m\u001b[43m \u001b[49m\u001b[43mvalue\u001b[49m\u001b[43m,\u001b[49m\u001b[43m \u001b[49m\u001b[43mtb\u001b[49m\u001b[43m,\u001b[49m\u001b[43m \u001b[49m\u001b[43mtb_offset\u001b[49m\u001b[43m,\u001b[49m\u001b[43m \u001b[49m\u001b[43mnumber_of_lines_of_context\u001b[49m\n\u001b[1;32m   1008\u001b[0m \u001b[43m    \u001b[49m\u001b[43m)\u001b[49m\n\u001b[1;32m   1009\u001b[0m \u001b[38;5;28;01melif\u001b[39;00m mode \u001b[38;5;241m==\u001b[39m \u001b[38;5;124m'\u001b[39m\u001b[38;5;124mMinimal\u001b[39m\u001b[38;5;124m'\u001b[39m:\n\u001b[1;32m   1010\u001b[0m     \u001b[38;5;28;01mreturn\u001b[39;00m ListTB\u001b[38;5;241m.\u001b[39mget_exception_only(\u001b[38;5;28mself\u001b[39m, etype, value)\n",
      "File \u001b[0;32m/usr/local/anaconda3/envs/env-nico-p3.8/lib/python3.8/site-packages/IPython/core/ultratb.py:859\u001b[0m, in \u001b[0;36mVerboseTB.structured_traceback\u001b[0;34m(self, etype, evalue, etb, tb_offset, number_of_lines_of_context)\u001b[0m\n\u001b[1;32m    850\u001b[0m \u001b[38;5;28;01mdef\u001b[39;00m \u001b[38;5;21mstructured_traceback\u001b[39m(\n\u001b[1;32m    851\u001b[0m     \u001b[38;5;28mself\u001b[39m,\n\u001b[1;32m    852\u001b[0m     etype: \u001b[38;5;28mtype\u001b[39m,\n\u001b[0;32m   (...)\u001b[0m\n\u001b[1;32m    856\u001b[0m     number_of_lines_of_context: \u001b[38;5;28mint\u001b[39m \u001b[38;5;241m=\u001b[39m \u001b[38;5;241m5\u001b[39m,\n\u001b[1;32m    857\u001b[0m ):\n\u001b[1;32m    858\u001b[0m     \u001b[38;5;124;03m\"\"\"Return a nice text document describing the traceback.\"\"\"\u001b[39;00m\n\u001b[0;32m--> 859\u001b[0m     formatted_exception \u001b[38;5;241m=\u001b[39m \u001b[38;5;28;43mself\u001b[39;49m\u001b[38;5;241;43m.\u001b[39;49m\u001b[43mformat_exception_as_a_whole\u001b[49m\u001b[43m(\u001b[49m\u001b[43metype\u001b[49m\u001b[43m,\u001b[49m\u001b[43m \u001b[49m\u001b[43mevalue\u001b[49m\u001b[43m,\u001b[49m\u001b[43m \u001b[49m\u001b[43metb\u001b[49m\u001b[43m,\u001b[49m\u001b[43m \u001b[49m\u001b[43mnumber_of_lines_of_context\u001b[49m\u001b[43m,\u001b[49m\n\u001b[1;32m    860\u001b[0m \u001b[43m                                                           \u001b[49m\u001b[43mtb_offset\u001b[49m\u001b[43m)\u001b[49m\n\u001b[1;32m    862\u001b[0m     colors \u001b[38;5;241m=\u001b[39m \u001b[38;5;28mself\u001b[39m\u001b[38;5;241m.\u001b[39mColors  \u001b[38;5;66;03m# just a shorthand + quicker name lookup\u001b[39;00m\n\u001b[1;32m    863\u001b[0m     colorsnormal \u001b[38;5;241m=\u001b[39m colors\u001b[38;5;241m.\u001b[39mNormal  \u001b[38;5;66;03m# used a lot\u001b[39;00m\n",
      "File \u001b[0;32m/usr/local/anaconda3/envs/env-nico-p3.8/lib/python3.8/site-packages/IPython/core/ultratb.py:793\u001b[0m, in \u001b[0;36mVerboseTB.format_exception_as_a_whole\u001b[0;34m(self, etype, evalue, etb, number_of_lines_of_context, tb_offset)\u001b[0m\n\u001b[1;32m    790\u001b[0m \u001b[38;5;28;01massert\u001b[39;00m \u001b[38;5;28misinstance\u001b[39m(tb_offset, \u001b[38;5;28mint\u001b[39m)\n\u001b[1;32m    791\u001b[0m head \u001b[38;5;241m=\u001b[39m \u001b[38;5;28mself\u001b[39m\u001b[38;5;241m.\u001b[39mprepare_header(etype, \u001b[38;5;28mself\u001b[39m\u001b[38;5;241m.\u001b[39mlong_header)\n\u001b[1;32m    792\u001b[0m records \u001b[38;5;241m=\u001b[39m (\n\u001b[0;32m--> 793\u001b[0m     \u001b[38;5;28;43mself\u001b[39;49m\u001b[38;5;241;43m.\u001b[39;49m\u001b[43mget_records\u001b[49m\u001b[43m(\u001b[49m\u001b[43metb\u001b[49m\u001b[43m,\u001b[49m\u001b[43m \u001b[49m\u001b[43mnumber_of_lines_of_context\u001b[49m\u001b[43m,\u001b[49m\u001b[43m \u001b[49m\u001b[43mtb_offset\u001b[49m\u001b[43m)\u001b[49m \u001b[38;5;28;01mif\u001b[39;00m etb \u001b[38;5;28;01melse\u001b[39;00m []\n\u001b[1;32m    794\u001b[0m )\n\u001b[1;32m    796\u001b[0m frames \u001b[38;5;241m=\u001b[39m []\n\u001b[1;32m    797\u001b[0m skipped \u001b[38;5;241m=\u001b[39m \u001b[38;5;241m0\u001b[39m\n",
      "File \u001b[0;32m/usr/local/anaconda3/envs/env-nico-p3.8/lib/python3.8/site-packages/IPython/core/ultratb.py:848\u001b[0m, in \u001b[0;36mVerboseTB.get_records\u001b[0;34m(self, etb, number_of_lines_of_context, tb_offset)\u001b[0m\n\u001b[1;32m    842\u001b[0m     formatter \u001b[38;5;241m=\u001b[39m \u001b[38;5;28;01mNone\u001b[39;00m\n\u001b[1;32m    843\u001b[0m options \u001b[38;5;241m=\u001b[39m stack_data\u001b[38;5;241m.\u001b[39mOptions(\n\u001b[1;32m    844\u001b[0m     before\u001b[38;5;241m=\u001b[39mbefore,\n\u001b[1;32m    845\u001b[0m     after\u001b[38;5;241m=\u001b[39mafter,\n\u001b[1;32m    846\u001b[0m     pygments_formatter\u001b[38;5;241m=\u001b[39mformatter,\n\u001b[1;32m    847\u001b[0m )\n\u001b[0;32m--> 848\u001b[0m \u001b[38;5;28;01mreturn\u001b[39;00m \u001b[38;5;28;43mlist\u001b[39;49m\u001b[43m(\u001b[49m\u001b[43mstack_data\u001b[49m\u001b[38;5;241;43m.\u001b[39;49m\u001b[43mFrameInfo\u001b[49m\u001b[38;5;241;43m.\u001b[39;49m\u001b[43mstack_data\u001b[49m\u001b[43m(\u001b[49m\u001b[43metb\u001b[49m\u001b[43m,\u001b[49m\u001b[43m \u001b[49m\u001b[43moptions\u001b[49m\u001b[38;5;241;43m=\u001b[39;49m\u001b[43moptions\u001b[49m\u001b[43m)\u001b[49m\u001b[43m)\u001b[49m[tb_offset:]\n",
      "File \u001b[0;32m/usr/local/anaconda3/envs/env-nico-p3.8/lib/python3.8/site-packages/stack_data/core.py:546\u001b[0m, in \u001b[0;36mFrameInfo.stack_data\u001b[0;34m(cls, frame_or_tb, options, collapse_repeated_frames)\u001b[0m\n\u001b[1;32m    530\u001b[0m \u001b[38;5;129m@classmethod\u001b[39m\n\u001b[1;32m    531\u001b[0m \u001b[38;5;28;01mdef\u001b[39;00m \u001b[38;5;21mstack_data\u001b[39m(\n\u001b[1;32m    532\u001b[0m         \u001b[38;5;28mcls\u001b[39m,\n\u001b[0;32m   (...)\u001b[0m\n\u001b[1;32m    536\u001b[0m         collapse_repeated_frames: \u001b[38;5;28mbool\u001b[39m \u001b[38;5;241m=\u001b[39m \u001b[38;5;28;01mTrue\u001b[39;00m\n\u001b[1;32m    537\u001b[0m ) \u001b[38;5;241m-\u001b[39m\u001b[38;5;241m>\u001b[39m Iterator[Union[\u001b[38;5;124m'\u001b[39m\u001b[38;5;124mFrameInfo\u001b[39m\u001b[38;5;124m'\u001b[39m, RepeatedFrames]]:\n\u001b[1;32m    538\u001b[0m     \u001b[38;5;124;03m\"\"\"\u001b[39;00m\n\u001b[1;32m    539\u001b[0m \u001b[38;5;124;03m    An iterator of FrameInfo and RepeatedFrames objects representing\u001b[39;00m\n\u001b[1;32m    540\u001b[0m \u001b[38;5;124;03m    a full traceback or stack. Similar consecutive frames are collapsed into RepeatedFrames\u001b[39;00m\n\u001b[0;32m   (...)\u001b[0m\n\u001b[1;32m    544\u001b[0m \u001b[38;5;124;03m    and optionally an Options object to configure.\u001b[39;00m\n\u001b[1;32m    545\u001b[0m \u001b[38;5;124;03m    \"\"\"\u001b[39;00m\n\u001b[0;32m--> 546\u001b[0m     stack \u001b[38;5;241m=\u001b[39m \u001b[38;5;28;43mlist\u001b[39;49m\u001b[43m(\u001b[49m\u001b[43miter_stack\u001b[49m\u001b[43m(\u001b[49m\u001b[43mframe_or_tb\u001b[49m\u001b[43m)\u001b[49m\u001b[43m)\u001b[49m\n\u001b[1;32m    548\u001b[0m     \u001b[38;5;66;03m# Reverse the stack from a frame so that it's in the same order\u001b[39;00m\n\u001b[1;32m    549\u001b[0m     \u001b[38;5;66;03m# as the order from a traceback, which is the order of a printed\u001b[39;00m\n\u001b[1;32m    550\u001b[0m     \u001b[38;5;66;03m# traceback when read top to bottom (most recent call last)\u001b[39;00m\n\u001b[1;32m    551\u001b[0m     \u001b[38;5;28;01mif\u001b[39;00m is_frame(frame_or_tb):\n",
      "File \u001b[0;32m/usr/local/anaconda3/envs/env-nico-p3.8/lib/python3.8/site-packages/stack_data/utils.py:98\u001b[0m, in \u001b[0;36miter_stack\u001b[0;34m(frame_or_tb)\u001b[0m\n\u001b[1;32m     96\u001b[0m \u001b[38;5;28;01mwhile\u001b[39;00m frame_or_tb:\n\u001b[1;32m     97\u001b[0m     \u001b[38;5;28;01myield\u001b[39;00m frame_or_tb\n\u001b[0;32m---> 98\u001b[0m     \u001b[38;5;28;01mif\u001b[39;00m \u001b[43mis_frame\u001b[49m\u001b[43m(\u001b[49m\u001b[43mframe_or_tb\u001b[49m\u001b[43m)\u001b[49m:\n\u001b[1;32m     99\u001b[0m         frame_or_tb \u001b[38;5;241m=\u001b[39m frame_or_tb\u001b[38;5;241m.\u001b[39mf_back\n\u001b[1;32m    100\u001b[0m     \u001b[38;5;28;01melse\u001b[39;00m:\n",
      "File \u001b[0;32m/usr/local/anaconda3/envs/env-nico-p3.8/lib/python3.8/site-packages/stack_data/utils.py:91\u001b[0m, in \u001b[0;36mis_frame\u001b[0;34m(frame_or_tb)\u001b[0m\n\u001b[1;32m     90\u001b[0m \u001b[38;5;28;01mdef\u001b[39;00m \u001b[38;5;21mis_frame\u001b[39m(frame_or_tb: Union[FrameType, TracebackType]) \u001b[38;5;241m-\u001b[39m\u001b[38;5;241m>\u001b[39m \u001b[38;5;28mbool\u001b[39m:\n\u001b[0;32m---> 91\u001b[0m     \u001b[43massert_\u001b[49m\u001b[43m(\u001b[49m\u001b[38;5;28;43misinstance\u001b[39;49m\u001b[43m(\u001b[49m\u001b[43mframe_or_tb\u001b[49m\u001b[43m,\u001b[49m\u001b[43m \u001b[49m\u001b[43m(\u001b[49m\u001b[43mtypes\u001b[49m\u001b[38;5;241;43m.\u001b[39;49m\u001b[43mFrameType\u001b[49m\u001b[43m,\u001b[49m\u001b[43m \u001b[49m\u001b[43mtypes\u001b[49m\u001b[38;5;241;43m.\u001b[39;49m\u001b[43mTracebackType\u001b[49m\u001b[43m)\u001b[49m\u001b[43m)\u001b[49m\u001b[43m)\u001b[49m\n\u001b[1;32m     92\u001b[0m     \u001b[38;5;28;01mreturn\u001b[39;00m \u001b[38;5;28misinstance\u001b[39m(frame_or_tb, (types\u001b[38;5;241m.\u001b[39mFrameType,))\n",
      "File \u001b[0;32m/usr/local/anaconda3/envs/env-nico-p3.8/lib/python3.8/site-packages/stack_data/utils.py:172\u001b[0m, in \u001b[0;36massert_\u001b[0;34m(condition, error)\u001b[0m\n\u001b[1;32m    170\u001b[0m \u001b[38;5;28;01mif\u001b[39;00m \u001b[38;5;28misinstance\u001b[39m(error, \u001b[38;5;28mstr\u001b[39m):\n\u001b[1;32m    171\u001b[0m     error \u001b[38;5;241m=\u001b[39m \u001b[38;5;167;01mAssertionError\u001b[39;00m(error)\n\u001b[0;32m--> 172\u001b[0m \u001b[38;5;28;01mraise\u001b[39;00m error\n",
      "\u001b[0;31mAssertionError\u001b[0m: "
     ]
    }
   ],
   "source": [
    "plot_model(model=lda, plot='frequency')"
   ]
  },
  {
   "cell_type": "code",
   "execution_count": null,
   "id": "42d823ed",
   "metadata": {},
   "outputs": [],
   "source": [
    "plot_model(model=lda, plot = 'bigram')"
   ]
  },
  {
   "cell_type": "code",
   "execution_count": null,
   "id": "ae220eb9",
   "metadata": {},
   "outputs": [],
   "source": [
    "plot_model(model=lda, plot = 'trigram')"
   ]
  },
  {
   "cell_type": "code",
   "execution_count": 26,
   "id": "20454b60",
   "metadata": {},
   "outputs": [
    {
     "data": {
      "text/html": [
       "        <script type=\"text/javascript\">\n",
       "        window.PlotlyConfig = {MathJaxConfig: 'local'};\n",
       "        if (window.MathJax && window.MathJax.Hub && window.MathJax.Hub.Config) {window.MathJax.Hub.Config({SVG: {font: \"STIX-Web\"}});}\n",
       "        if (typeof require !== 'undefined') {\n",
       "        require.undef(\"plotly\");\n",
       "        requirejs.config({\n",
       "            paths: {\n",
       "                'plotly': ['https://cdn.plot.ly/plotly-2.16.1.min']\n",
       "            }\n",
       "        });\n",
       "        require(['plotly'], function(Plotly) {\n",
       "            window._Plotly = Plotly;\n",
       "        });\n",
       "        }\n",
       "        </script>\n",
       "        "
      ]
     },
     "metadata": {},
     "output_type": "display_data"
    },
    {
     "ename": "AssertionError",
     "evalue": "",
     "output_type": "error",
     "traceback": [
      "\u001b[0;31m---------------------------------------------------------------------------\u001b[0m",
      "\u001b[0;31mValueError\u001b[0m                                Traceback (most recent call last)",
      "File \u001b[0;32m/usr/local/anaconda3/envs/env-nico-p3.8/lib/python3.8/site-packages/pycaret/nlp.py:2197\u001b[0m, in \u001b[0;36mplot_model\u001b[0;34m(model, plot, topic_num, save, system, display_format)\u001b[0m\n\u001b[1;32m   2194\u001b[0m filtered_df \u001b[38;5;241m=\u001b[39m assigned_df\u001b[38;5;241m.\u001b[39mloc[\n\u001b[1;32m   2195\u001b[0m     assigned_df[\u001b[38;5;124m\"\u001b[39m\u001b[38;5;124mDominant_Topic\u001b[39m\u001b[38;5;124m\"\u001b[39m] \u001b[38;5;241m==\u001b[39m topic_num\n\u001b[1;32m   2196\u001b[0m ]\n\u001b[0;32m-> 2197\u001b[0m common_words \u001b[38;5;241m=\u001b[39m \u001b[43mget_top_n_words\u001b[49m\u001b[43m(\u001b[49m\u001b[43mfiltered_df\u001b[49m\u001b[43m[\u001b[49m\u001b[43mtarget_\u001b[49m\u001b[43m]\u001b[49m\u001b[43m,\u001b[49m\u001b[43m \u001b[49m\u001b[43mn\u001b[49m\u001b[38;5;241;43m=\u001b[39;49m\u001b[38;5;241;43m100\u001b[39;49m\u001b[43m)\u001b[49m\n\u001b[1;32m   2198\u001b[0m df2 \u001b[38;5;241m=\u001b[39m pd\u001b[38;5;241m.\u001b[39mDataFrame(common_words, columns\u001b[38;5;241m=\u001b[39m[\u001b[38;5;124m\"\u001b[39m\u001b[38;5;124mText\u001b[39m\u001b[38;5;124m\"\u001b[39m, \u001b[38;5;124m\"\u001b[39m\u001b[38;5;124mcount\u001b[39m\u001b[38;5;124m\"\u001b[39m])\n",
      "File \u001b[0;32m/usr/local/anaconda3/envs/env-nico-p3.8/lib/python3.8/site-packages/pycaret/nlp.py:2138\u001b[0m, in \u001b[0;36mplot_model.<locals>.get_top_n_words\u001b[0;34m(corpus, n)\u001b[0m\n\u001b[1;32m   2137\u001b[0m logger\u001b[38;5;241m.\u001b[39minfo(\u001b[38;5;124m\"\u001b[39m\u001b[38;5;124mFitting CountVectorizer()\u001b[39m\u001b[38;5;124m\"\u001b[39m)\n\u001b[0;32m-> 2138\u001b[0m bag_of_words \u001b[38;5;241m=\u001b[39m \u001b[43mvec\u001b[49m\u001b[38;5;241;43m.\u001b[39;49m\u001b[43mfit_transform\u001b[49m\u001b[43m(\u001b[49m\u001b[43mcorpus\u001b[49m\u001b[43m)\u001b[49m\n\u001b[1;32m   2139\u001b[0m sum_words \u001b[38;5;241m=\u001b[39m bag_of_words\u001b[38;5;241m.\u001b[39msum(axis\u001b[38;5;241m=\u001b[39m\u001b[38;5;241m0\u001b[39m)\n",
      "File \u001b[0;32m/usr/local/anaconda3/envs/env-nico-p3.8/lib/python3.8/site-packages/sklearn/feature_extraction/text.py:1198\u001b[0m, in \u001b[0;36mCountVectorizer.fit_transform\u001b[0;34m(self, raw_documents, y)\u001b[0m\n\u001b[1;32m   1196\u001b[0m max_features \u001b[38;5;241m=\u001b[39m \u001b[38;5;28mself\u001b[39m\u001b[38;5;241m.\u001b[39mmax_features\n\u001b[0;32m-> 1198\u001b[0m vocabulary, X \u001b[38;5;241m=\u001b[39m \u001b[38;5;28;43mself\u001b[39;49m\u001b[38;5;241;43m.\u001b[39;49m\u001b[43m_count_vocab\u001b[49m\u001b[43m(\u001b[49m\u001b[43mraw_documents\u001b[49m\u001b[43m,\u001b[49m\n\u001b[1;32m   1199\u001b[0m \u001b[43m                                  \u001b[49m\u001b[38;5;28;43mself\u001b[39;49m\u001b[38;5;241;43m.\u001b[39;49m\u001b[43mfixed_vocabulary_\u001b[49m\u001b[43m)\u001b[49m\n\u001b[1;32m   1201\u001b[0m \u001b[38;5;28;01mif\u001b[39;00m \u001b[38;5;28mself\u001b[39m\u001b[38;5;241m.\u001b[39mbinary:\n",
      "File \u001b[0;32m/usr/local/anaconda3/envs/env-nico-p3.8/lib/python3.8/site-packages/sklearn/feature_extraction/text.py:1110\u001b[0m, in \u001b[0;36mCountVectorizer._count_vocab\u001b[0;34m(self, raw_documents, fixed_vocab)\u001b[0m\n\u001b[1;32m   1109\u001b[0m feature_counter \u001b[38;5;241m=\u001b[39m {}\n\u001b[0;32m-> 1110\u001b[0m \u001b[38;5;28;01mfor\u001b[39;00m feature \u001b[38;5;129;01min\u001b[39;00m \u001b[43manalyze\u001b[49m\u001b[43m(\u001b[49m\u001b[43mdoc\u001b[49m\u001b[43m)\u001b[49m:\n\u001b[1;32m   1111\u001b[0m     \u001b[38;5;28;01mtry\u001b[39;00m:\n",
      "File \u001b[0;32m/usr/local/anaconda3/envs/env-nico-p3.8/lib/python3.8/site-packages/sklearn/feature_extraction/text.py:99\u001b[0m, in \u001b[0;36m_analyze\u001b[0;34m(doc, analyzer, tokenizer, ngrams, preprocessor, decoder, stop_words)\u001b[0m\n\u001b[1;32m     98\u001b[0m \u001b[38;5;28;01mif\u001b[39;00m decoder \u001b[38;5;129;01mis\u001b[39;00m \u001b[38;5;129;01mnot\u001b[39;00m \u001b[38;5;28;01mNone\u001b[39;00m:\n\u001b[0;32m---> 99\u001b[0m     doc \u001b[38;5;241m=\u001b[39m \u001b[43mdecoder\u001b[49m\u001b[43m(\u001b[49m\u001b[43mdoc\u001b[49m\u001b[43m)\u001b[49m\n\u001b[1;32m    100\u001b[0m \u001b[38;5;28;01mif\u001b[39;00m analyzer \u001b[38;5;129;01mis\u001b[39;00m \u001b[38;5;129;01mnot\u001b[39;00m \u001b[38;5;28;01mNone\u001b[39;00m:\n",
      "File \u001b[0;32m/usr/local/anaconda3/envs/env-nico-p3.8/lib/python3.8/site-packages/sklearn/feature_extraction/text.py:219\u001b[0m, in \u001b[0;36m_VectorizerMixin.decode\u001b[0;34m(self, doc)\u001b[0m\n\u001b[1;32m    218\u001b[0m \u001b[38;5;28;01mif\u001b[39;00m doc \u001b[38;5;129;01mis\u001b[39;00m np\u001b[38;5;241m.\u001b[39mnan:\n\u001b[0;32m--> 219\u001b[0m     \u001b[38;5;28;01mraise\u001b[39;00m \u001b[38;5;167;01mValueError\u001b[39;00m(\u001b[38;5;124m\"\u001b[39m\u001b[38;5;124mnp.nan is an invalid document, expected byte or \u001b[39m\u001b[38;5;124m\"\u001b[39m\n\u001b[1;32m    220\u001b[0m                      \u001b[38;5;124m\"\u001b[39m\u001b[38;5;124municode string.\u001b[39m\u001b[38;5;124m\"\u001b[39m)\n\u001b[1;32m    222\u001b[0m \u001b[38;5;28;01mreturn\u001b[39;00m doc\n",
      "\u001b[0;31mValueError\u001b[0m: np.nan is an invalid document, expected byte or unicode string.",
      "\nDuring handling of the above exception, another exception occurred:\n",
      "\u001b[0;31mSystemExit\u001b[0m                                Traceback (most recent call last)",
      "    \u001b[0;31m[... skipping hidden 1 frame]\u001b[0m\n",
      "Cell \u001b[0;32mIn [26], line 1\u001b[0m\n\u001b[0;32m----> 1\u001b[0m \u001b[43mplot_model\u001b[49m\u001b[43m(\u001b[49m\u001b[43mmodel\u001b[49m\u001b[38;5;241;43m=\u001b[39;49m\u001b[43mlda\u001b[49m\u001b[43m,\u001b[49m\u001b[43m \u001b[49m\u001b[43mplot\u001b[49m\u001b[43m \u001b[49m\u001b[38;5;241;43m=\u001b[39;49m\u001b[43m \u001b[49m\u001b[38;5;124;43m'\u001b[39;49m\u001b[38;5;124;43mfrequency\u001b[39;49m\u001b[38;5;124;43m'\u001b[39;49m\u001b[43m,\u001b[49m\u001b[43m \u001b[49m\u001b[43mtopic_num\u001b[49m\u001b[43m \u001b[49m\u001b[38;5;241;43m=\u001b[39;49m\u001b[43m \u001b[49m\u001b[38;5;124;43m'\u001b[39;49m\u001b[38;5;124;43mTopic 0\u001b[39;49m\u001b[38;5;124;43m'\u001b[39;49m\u001b[43m)\u001b[49m\n",
      "File \u001b[0;32m/usr/local/anaconda3/envs/env-nico-p3.8/lib/python3.8/site-packages/pycaret/nlp.py:2244\u001b[0m, in \u001b[0;36mplot_model\u001b[0;34m(model, plot, topic_num, save, system, display_format)\u001b[0m\n\u001b[1;32m   2241\u001b[0m         logger\u001b[38;5;241m.\u001b[39mwarning(\n\u001b[1;32m   2242\u001b[0m             \u001b[38;5;124m\"\u001b[39m\u001b[38;5;124mInvalid topic_num param or empty Vocab. Try changing Topic Number.\u001b[39m\u001b[38;5;124m\"\u001b[39m\n\u001b[1;32m   2243\u001b[0m         )\n\u001b[0;32m-> 2244\u001b[0m         \u001b[43msys\u001b[49m\u001b[38;5;241;43m.\u001b[39;49m\u001b[43mexit\u001b[49m\u001b[43m(\u001b[49m\n\u001b[1;32m   2245\u001b[0m \u001b[43m            \u001b[49m\u001b[38;5;124;43m\"\u001b[39;49m\u001b[38;5;124;43m(Value Error): Invalid topic_num param or empty Vocab. Try changing Topic Number.\u001b[39;49m\u001b[38;5;124;43m\"\u001b[39;49m\n\u001b[1;32m   2246\u001b[0m \u001b[43m        \u001b[49m\u001b[43m)\u001b[49m\n\u001b[1;32m   2248\u001b[0m \u001b[38;5;28;01melif\u001b[39;00m plot \u001b[38;5;241m==\u001b[39m \u001b[38;5;124m\"\u001b[39m\u001b[38;5;124mdistribution\u001b[39m\u001b[38;5;124m\"\u001b[39m:\n",
      "\u001b[0;31mSystemExit\u001b[0m: (Value Error): Invalid topic_num param or empty Vocab. Try changing Topic Number.",
      "\nDuring handling of the above exception, another exception occurred:\n",
      "\u001b[0;31mAssertionError\u001b[0m                            Traceback (most recent call last)",
      "    \u001b[0;31m[... skipping hidden 1 frame]\u001b[0m\n",
      "File \u001b[0;32m/usr/local/anaconda3/envs/env-nico-p3.8/lib/python3.8/site-packages/IPython/core/interactiveshell.py:2042\u001b[0m, in \u001b[0;36mInteractiveShell.showtraceback\u001b[0;34m(self, exc_tuple, filename, tb_offset, exception_only, running_compiled_code)\u001b[0m\n\u001b[1;32m   2039\u001b[0m \u001b[38;5;28;01mif\u001b[39;00m exception_only:\n\u001b[1;32m   2040\u001b[0m     stb \u001b[38;5;241m=\u001b[39m [\u001b[38;5;124m'\u001b[39m\u001b[38;5;124mAn exception has occurred, use \u001b[39m\u001b[38;5;124m%\u001b[39m\u001b[38;5;124mtb to see \u001b[39m\u001b[38;5;124m'\u001b[39m\n\u001b[1;32m   2041\u001b[0m            \u001b[38;5;124m'\u001b[39m\u001b[38;5;124mthe full traceback.\u001b[39m\u001b[38;5;130;01m\\n\u001b[39;00m\u001b[38;5;124m'\u001b[39m]\n\u001b[0;32m-> 2042\u001b[0m     stb\u001b[38;5;241m.\u001b[39mextend(\u001b[38;5;28;43mself\u001b[39;49m\u001b[38;5;241;43m.\u001b[39;49m\u001b[43mInteractiveTB\u001b[49m\u001b[38;5;241;43m.\u001b[39;49m\u001b[43mget_exception_only\u001b[49m\u001b[43m(\u001b[49m\u001b[43metype\u001b[49m\u001b[43m,\u001b[49m\n\u001b[1;32m   2043\u001b[0m \u001b[43m                                                     \u001b[49m\u001b[43mvalue\u001b[49m\u001b[43m)\u001b[49m)\n\u001b[1;32m   2044\u001b[0m \u001b[38;5;28;01melse\u001b[39;00m:\n\u001b[1;32m   2045\u001b[0m     \u001b[38;5;28;01mtry\u001b[39;00m:\n\u001b[1;32m   2046\u001b[0m         \u001b[38;5;66;03m# Exception classes can customise their traceback - we\u001b[39;00m\n\u001b[1;32m   2047\u001b[0m         \u001b[38;5;66;03m# use this in IPython.parallel for exceptions occurring\u001b[39;00m\n\u001b[1;32m   2048\u001b[0m         \u001b[38;5;66;03m# in the engines. This should return a list of strings.\u001b[39;00m\n",
      "File \u001b[0;32m/usr/local/anaconda3/envs/env-nico-p3.8/lib/python3.8/site-packages/IPython/core/ultratb.py:579\u001b[0m, in \u001b[0;36mListTB.get_exception_only\u001b[0;34m(self, etype, value)\u001b[0m\n\u001b[1;32m    571\u001b[0m \u001b[38;5;28;01mdef\u001b[39;00m \u001b[38;5;21mget_exception_only\u001b[39m(\u001b[38;5;28mself\u001b[39m, etype, value):\n\u001b[1;32m    572\u001b[0m     \u001b[38;5;124;03m\"\"\"Only print the exception type and message, without a traceback.\u001b[39;00m\n\u001b[1;32m    573\u001b[0m \n\u001b[1;32m    574\u001b[0m \u001b[38;5;124;03m    Parameters\u001b[39;00m\n\u001b[0;32m   (...)\u001b[0m\n\u001b[1;32m    577\u001b[0m \u001b[38;5;124;03m    value : exception value\u001b[39;00m\n\u001b[1;32m    578\u001b[0m \u001b[38;5;124;03m    \"\"\"\u001b[39;00m\n\u001b[0;32m--> 579\u001b[0m     \u001b[38;5;28;01mreturn\u001b[39;00m \u001b[43mListTB\u001b[49m\u001b[38;5;241;43m.\u001b[39;49m\u001b[43mstructured_traceback\u001b[49m\u001b[43m(\u001b[49m\u001b[38;5;28;43mself\u001b[39;49m\u001b[43m,\u001b[49m\u001b[43m \u001b[49m\u001b[43metype\u001b[49m\u001b[43m,\u001b[49m\u001b[43m \u001b[49m\u001b[43mvalue\u001b[49m\u001b[43m)\u001b[49m\n",
      "File \u001b[0;32m/usr/local/anaconda3/envs/env-nico-p3.8/lib/python3.8/site-packages/IPython/core/ultratb.py:446\u001b[0m, in \u001b[0;36mListTB.structured_traceback\u001b[0;34m(self, etype, evalue, etb, tb_offset, context)\u001b[0m\n\u001b[1;32m    443\u001b[0m     chained_exc_ids\u001b[38;5;241m.\u001b[39madd(\u001b[38;5;28mid\u001b[39m(exception[\u001b[38;5;241m1\u001b[39m]))\n\u001b[1;32m    444\u001b[0m     chained_exceptions_tb_offset \u001b[38;5;241m=\u001b[39m \u001b[38;5;241m0\u001b[39m\n\u001b[1;32m    445\u001b[0m     out_list \u001b[38;5;241m=\u001b[39m (\n\u001b[0;32m--> 446\u001b[0m         \u001b[38;5;28;43mself\u001b[39;49m\u001b[38;5;241;43m.\u001b[39;49m\u001b[43mstructured_traceback\u001b[49m\u001b[43m(\u001b[49m\n\u001b[1;32m    447\u001b[0m \u001b[43m            \u001b[49m\u001b[43metype\u001b[49m\u001b[43m,\u001b[49m\u001b[43m \u001b[49m\u001b[43mevalue\u001b[49m\u001b[43m,\u001b[49m\u001b[43m \u001b[49m\u001b[43m(\u001b[49m\u001b[43metb\u001b[49m\u001b[43m,\u001b[49m\u001b[43m \u001b[49m\u001b[43mchained_exc_ids\u001b[49m\u001b[43m)\u001b[49m\u001b[43m,\u001b[49m\n\u001b[1;32m    448\u001b[0m \u001b[43m            \u001b[49m\u001b[43mchained_exceptions_tb_offset\u001b[49m\u001b[43m,\u001b[49m\u001b[43m \u001b[49m\u001b[43mcontext\u001b[49m\u001b[43m)\u001b[49m\n\u001b[1;32m    449\u001b[0m         \u001b[38;5;241m+\u001b[39m chained_exception_message\n\u001b[1;32m    450\u001b[0m         \u001b[38;5;241m+\u001b[39m out_list)\n\u001b[1;32m    452\u001b[0m \u001b[38;5;28;01mreturn\u001b[39;00m out_list\n",
      "File \u001b[0;32m/usr/local/anaconda3/envs/env-nico-p3.8/lib/python3.8/site-packages/IPython/core/ultratb.py:1112\u001b[0m, in \u001b[0;36mAutoFormattedTB.structured_traceback\u001b[0;34m(self, etype, value, tb, tb_offset, number_of_lines_of_context)\u001b[0m\n\u001b[1;32m   1110\u001b[0m \u001b[38;5;28;01melse\u001b[39;00m:\n\u001b[1;32m   1111\u001b[0m     \u001b[38;5;28mself\u001b[39m\u001b[38;5;241m.\u001b[39mtb \u001b[38;5;241m=\u001b[39m tb\n\u001b[0;32m-> 1112\u001b[0m \u001b[38;5;28;01mreturn\u001b[39;00m \u001b[43mFormattedTB\u001b[49m\u001b[38;5;241;43m.\u001b[39;49m\u001b[43mstructured_traceback\u001b[49m\u001b[43m(\u001b[49m\n\u001b[1;32m   1113\u001b[0m \u001b[43m    \u001b[49m\u001b[38;5;28;43mself\u001b[39;49m\u001b[43m,\u001b[49m\u001b[43m \u001b[49m\u001b[43metype\u001b[49m\u001b[43m,\u001b[49m\u001b[43m \u001b[49m\u001b[43mvalue\u001b[49m\u001b[43m,\u001b[49m\u001b[43m \u001b[49m\u001b[43mtb\u001b[49m\u001b[43m,\u001b[49m\u001b[43m \u001b[49m\u001b[43mtb_offset\u001b[49m\u001b[43m,\u001b[49m\u001b[43m \u001b[49m\u001b[43mnumber_of_lines_of_context\u001b[49m\u001b[43m)\u001b[49m\n",
      "File \u001b[0;32m/usr/local/anaconda3/envs/env-nico-p3.8/lib/python3.8/site-packages/IPython/core/ultratb.py:1006\u001b[0m, in \u001b[0;36mFormattedTB.structured_traceback\u001b[0;34m(self, etype, value, tb, tb_offset, number_of_lines_of_context)\u001b[0m\n\u001b[1;32m   1003\u001b[0m mode \u001b[38;5;241m=\u001b[39m \u001b[38;5;28mself\u001b[39m\u001b[38;5;241m.\u001b[39mmode\n\u001b[1;32m   1004\u001b[0m \u001b[38;5;28;01mif\u001b[39;00m mode \u001b[38;5;129;01min\u001b[39;00m \u001b[38;5;28mself\u001b[39m\u001b[38;5;241m.\u001b[39mverbose_modes:\n\u001b[1;32m   1005\u001b[0m     \u001b[38;5;66;03m# Verbose modes need a full traceback\u001b[39;00m\n\u001b[0;32m-> 1006\u001b[0m     \u001b[38;5;28;01mreturn\u001b[39;00m \u001b[43mVerboseTB\u001b[49m\u001b[38;5;241;43m.\u001b[39;49m\u001b[43mstructured_traceback\u001b[49m\u001b[43m(\u001b[49m\n\u001b[1;32m   1007\u001b[0m \u001b[43m        \u001b[49m\u001b[38;5;28;43mself\u001b[39;49m\u001b[43m,\u001b[49m\u001b[43m \u001b[49m\u001b[43metype\u001b[49m\u001b[43m,\u001b[49m\u001b[43m \u001b[49m\u001b[43mvalue\u001b[49m\u001b[43m,\u001b[49m\u001b[43m \u001b[49m\u001b[43mtb\u001b[49m\u001b[43m,\u001b[49m\u001b[43m \u001b[49m\u001b[43mtb_offset\u001b[49m\u001b[43m,\u001b[49m\u001b[43m \u001b[49m\u001b[43mnumber_of_lines_of_context\u001b[49m\n\u001b[1;32m   1008\u001b[0m \u001b[43m    \u001b[49m\u001b[43m)\u001b[49m\n\u001b[1;32m   1009\u001b[0m \u001b[38;5;28;01melif\u001b[39;00m mode \u001b[38;5;241m==\u001b[39m \u001b[38;5;124m'\u001b[39m\u001b[38;5;124mMinimal\u001b[39m\u001b[38;5;124m'\u001b[39m:\n\u001b[1;32m   1010\u001b[0m     \u001b[38;5;28;01mreturn\u001b[39;00m ListTB\u001b[38;5;241m.\u001b[39mget_exception_only(\u001b[38;5;28mself\u001b[39m, etype, value)\n",
      "File \u001b[0;32m/usr/local/anaconda3/envs/env-nico-p3.8/lib/python3.8/site-packages/IPython/core/ultratb.py:859\u001b[0m, in \u001b[0;36mVerboseTB.structured_traceback\u001b[0;34m(self, etype, evalue, etb, tb_offset, number_of_lines_of_context)\u001b[0m\n\u001b[1;32m    850\u001b[0m \u001b[38;5;28;01mdef\u001b[39;00m \u001b[38;5;21mstructured_traceback\u001b[39m(\n\u001b[1;32m    851\u001b[0m     \u001b[38;5;28mself\u001b[39m,\n\u001b[1;32m    852\u001b[0m     etype: \u001b[38;5;28mtype\u001b[39m,\n\u001b[0;32m   (...)\u001b[0m\n\u001b[1;32m    856\u001b[0m     number_of_lines_of_context: \u001b[38;5;28mint\u001b[39m \u001b[38;5;241m=\u001b[39m \u001b[38;5;241m5\u001b[39m,\n\u001b[1;32m    857\u001b[0m ):\n\u001b[1;32m    858\u001b[0m     \u001b[38;5;124;03m\"\"\"Return a nice text document describing the traceback.\"\"\"\u001b[39;00m\n\u001b[0;32m--> 859\u001b[0m     formatted_exception \u001b[38;5;241m=\u001b[39m \u001b[38;5;28;43mself\u001b[39;49m\u001b[38;5;241;43m.\u001b[39;49m\u001b[43mformat_exception_as_a_whole\u001b[49m\u001b[43m(\u001b[49m\u001b[43metype\u001b[49m\u001b[43m,\u001b[49m\u001b[43m \u001b[49m\u001b[43mevalue\u001b[49m\u001b[43m,\u001b[49m\u001b[43m \u001b[49m\u001b[43metb\u001b[49m\u001b[43m,\u001b[49m\u001b[43m \u001b[49m\u001b[43mnumber_of_lines_of_context\u001b[49m\u001b[43m,\u001b[49m\n\u001b[1;32m    860\u001b[0m \u001b[43m                                                           \u001b[49m\u001b[43mtb_offset\u001b[49m\u001b[43m)\u001b[49m\n\u001b[1;32m    862\u001b[0m     colors \u001b[38;5;241m=\u001b[39m \u001b[38;5;28mself\u001b[39m\u001b[38;5;241m.\u001b[39mColors  \u001b[38;5;66;03m# just a shorthand + quicker name lookup\u001b[39;00m\n\u001b[1;32m    863\u001b[0m     colorsnormal \u001b[38;5;241m=\u001b[39m colors\u001b[38;5;241m.\u001b[39mNormal  \u001b[38;5;66;03m# used a lot\u001b[39;00m\n",
      "File \u001b[0;32m/usr/local/anaconda3/envs/env-nico-p3.8/lib/python3.8/site-packages/IPython/core/ultratb.py:793\u001b[0m, in \u001b[0;36mVerboseTB.format_exception_as_a_whole\u001b[0;34m(self, etype, evalue, etb, number_of_lines_of_context, tb_offset)\u001b[0m\n\u001b[1;32m    790\u001b[0m \u001b[38;5;28;01massert\u001b[39;00m \u001b[38;5;28misinstance\u001b[39m(tb_offset, \u001b[38;5;28mint\u001b[39m)\n\u001b[1;32m    791\u001b[0m head \u001b[38;5;241m=\u001b[39m \u001b[38;5;28mself\u001b[39m\u001b[38;5;241m.\u001b[39mprepare_header(etype, \u001b[38;5;28mself\u001b[39m\u001b[38;5;241m.\u001b[39mlong_header)\n\u001b[1;32m    792\u001b[0m records \u001b[38;5;241m=\u001b[39m (\n\u001b[0;32m--> 793\u001b[0m     \u001b[38;5;28;43mself\u001b[39;49m\u001b[38;5;241;43m.\u001b[39;49m\u001b[43mget_records\u001b[49m\u001b[43m(\u001b[49m\u001b[43metb\u001b[49m\u001b[43m,\u001b[49m\u001b[43m \u001b[49m\u001b[43mnumber_of_lines_of_context\u001b[49m\u001b[43m,\u001b[49m\u001b[43m \u001b[49m\u001b[43mtb_offset\u001b[49m\u001b[43m)\u001b[49m \u001b[38;5;28;01mif\u001b[39;00m etb \u001b[38;5;28;01melse\u001b[39;00m []\n\u001b[1;32m    794\u001b[0m )\n\u001b[1;32m    796\u001b[0m frames \u001b[38;5;241m=\u001b[39m []\n\u001b[1;32m    797\u001b[0m skipped \u001b[38;5;241m=\u001b[39m \u001b[38;5;241m0\u001b[39m\n",
      "File \u001b[0;32m/usr/local/anaconda3/envs/env-nico-p3.8/lib/python3.8/site-packages/IPython/core/ultratb.py:848\u001b[0m, in \u001b[0;36mVerboseTB.get_records\u001b[0;34m(self, etb, number_of_lines_of_context, tb_offset)\u001b[0m\n\u001b[1;32m    842\u001b[0m     formatter \u001b[38;5;241m=\u001b[39m \u001b[38;5;28;01mNone\u001b[39;00m\n\u001b[1;32m    843\u001b[0m options \u001b[38;5;241m=\u001b[39m stack_data\u001b[38;5;241m.\u001b[39mOptions(\n\u001b[1;32m    844\u001b[0m     before\u001b[38;5;241m=\u001b[39mbefore,\n\u001b[1;32m    845\u001b[0m     after\u001b[38;5;241m=\u001b[39mafter,\n\u001b[1;32m    846\u001b[0m     pygments_formatter\u001b[38;5;241m=\u001b[39mformatter,\n\u001b[1;32m    847\u001b[0m )\n\u001b[0;32m--> 848\u001b[0m \u001b[38;5;28;01mreturn\u001b[39;00m \u001b[38;5;28;43mlist\u001b[39;49m\u001b[43m(\u001b[49m\u001b[43mstack_data\u001b[49m\u001b[38;5;241;43m.\u001b[39;49m\u001b[43mFrameInfo\u001b[49m\u001b[38;5;241;43m.\u001b[39;49m\u001b[43mstack_data\u001b[49m\u001b[43m(\u001b[49m\u001b[43metb\u001b[49m\u001b[43m,\u001b[49m\u001b[43m \u001b[49m\u001b[43moptions\u001b[49m\u001b[38;5;241;43m=\u001b[39;49m\u001b[43moptions\u001b[49m\u001b[43m)\u001b[49m\u001b[43m)\u001b[49m[tb_offset:]\n",
      "File \u001b[0;32m/usr/local/anaconda3/envs/env-nico-p3.8/lib/python3.8/site-packages/stack_data/core.py:546\u001b[0m, in \u001b[0;36mFrameInfo.stack_data\u001b[0;34m(cls, frame_or_tb, options, collapse_repeated_frames)\u001b[0m\n\u001b[1;32m    530\u001b[0m \u001b[38;5;129m@classmethod\u001b[39m\n\u001b[1;32m    531\u001b[0m \u001b[38;5;28;01mdef\u001b[39;00m \u001b[38;5;21mstack_data\u001b[39m(\n\u001b[1;32m    532\u001b[0m         \u001b[38;5;28mcls\u001b[39m,\n\u001b[0;32m   (...)\u001b[0m\n\u001b[1;32m    536\u001b[0m         collapse_repeated_frames: \u001b[38;5;28mbool\u001b[39m \u001b[38;5;241m=\u001b[39m \u001b[38;5;28;01mTrue\u001b[39;00m\n\u001b[1;32m    537\u001b[0m ) \u001b[38;5;241m-\u001b[39m\u001b[38;5;241m>\u001b[39m Iterator[Union[\u001b[38;5;124m'\u001b[39m\u001b[38;5;124mFrameInfo\u001b[39m\u001b[38;5;124m'\u001b[39m, RepeatedFrames]]:\n\u001b[1;32m    538\u001b[0m     \u001b[38;5;124;03m\"\"\"\u001b[39;00m\n\u001b[1;32m    539\u001b[0m \u001b[38;5;124;03m    An iterator of FrameInfo and RepeatedFrames objects representing\u001b[39;00m\n\u001b[1;32m    540\u001b[0m \u001b[38;5;124;03m    a full traceback or stack. Similar consecutive frames are collapsed into RepeatedFrames\u001b[39;00m\n\u001b[0;32m   (...)\u001b[0m\n\u001b[1;32m    544\u001b[0m \u001b[38;5;124;03m    and optionally an Options object to configure.\u001b[39;00m\n\u001b[1;32m    545\u001b[0m \u001b[38;5;124;03m    \"\"\"\u001b[39;00m\n\u001b[0;32m--> 546\u001b[0m     stack \u001b[38;5;241m=\u001b[39m \u001b[38;5;28;43mlist\u001b[39;49m\u001b[43m(\u001b[49m\u001b[43miter_stack\u001b[49m\u001b[43m(\u001b[49m\u001b[43mframe_or_tb\u001b[49m\u001b[43m)\u001b[49m\u001b[43m)\u001b[49m\n\u001b[1;32m    548\u001b[0m     \u001b[38;5;66;03m# Reverse the stack from a frame so that it's in the same order\u001b[39;00m\n\u001b[1;32m    549\u001b[0m     \u001b[38;5;66;03m# as the order from a traceback, which is the order of a printed\u001b[39;00m\n\u001b[1;32m    550\u001b[0m     \u001b[38;5;66;03m# traceback when read top to bottom (most recent call last)\u001b[39;00m\n\u001b[1;32m    551\u001b[0m     \u001b[38;5;28;01mif\u001b[39;00m is_frame(frame_or_tb):\n",
      "File \u001b[0;32m/usr/local/anaconda3/envs/env-nico-p3.8/lib/python3.8/site-packages/stack_data/utils.py:98\u001b[0m, in \u001b[0;36miter_stack\u001b[0;34m(frame_or_tb)\u001b[0m\n\u001b[1;32m     96\u001b[0m \u001b[38;5;28;01mwhile\u001b[39;00m frame_or_tb:\n\u001b[1;32m     97\u001b[0m     \u001b[38;5;28;01myield\u001b[39;00m frame_or_tb\n\u001b[0;32m---> 98\u001b[0m     \u001b[38;5;28;01mif\u001b[39;00m \u001b[43mis_frame\u001b[49m\u001b[43m(\u001b[49m\u001b[43mframe_or_tb\u001b[49m\u001b[43m)\u001b[49m:\n\u001b[1;32m     99\u001b[0m         frame_or_tb \u001b[38;5;241m=\u001b[39m frame_or_tb\u001b[38;5;241m.\u001b[39mf_back\n\u001b[1;32m    100\u001b[0m     \u001b[38;5;28;01melse\u001b[39;00m:\n",
      "File \u001b[0;32m/usr/local/anaconda3/envs/env-nico-p3.8/lib/python3.8/site-packages/stack_data/utils.py:91\u001b[0m, in \u001b[0;36mis_frame\u001b[0;34m(frame_or_tb)\u001b[0m\n\u001b[1;32m     90\u001b[0m \u001b[38;5;28;01mdef\u001b[39;00m \u001b[38;5;21mis_frame\u001b[39m(frame_or_tb: Union[FrameType, TracebackType]) \u001b[38;5;241m-\u001b[39m\u001b[38;5;241m>\u001b[39m \u001b[38;5;28mbool\u001b[39m:\n\u001b[0;32m---> 91\u001b[0m     \u001b[43massert_\u001b[49m\u001b[43m(\u001b[49m\u001b[38;5;28;43misinstance\u001b[39;49m\u001b[43m(\u001b[49m\u001b[43mframe_or_tb\u001b[49m\u001b[43m,\u001b[49m\u001b[43m \u001b[49m\u001b[43m(\u001b[49m\u001b[43mtypes\u001b[49m\u001b[38;5;241;43m.\u001b[39;49m\u001b[43mFrameType\u001b[49m\u001b[43m,\u001b[49m\u001b[43m \u001b[49m\u001b[43mtypes\u001b[49m\u001b[38;5;241;43m.\u001b[39;49m\u001b[43mTracebackType\u001b[49m\u001b[43m)\u001b[49m\u001b[43m)\u001b[49m\u001b[43m)\u001b[49m\n\u001b[1;32m     92\u001b[0m     \u001b[38;5;28;01mreturn\u001b[39;00m \u001b[38;5;28misinstance\u001b[39m(frame_or_tb, (types\u001b[38;5;241m.\u001b[39mFrameType,))\n",
      "File \u001b[0;32m/usr/local/anaconda3/envs/env-nico-p3.8/lib/python3.8/site-packages/stack_data/utils.py:172\u001b[0m, in \u001b[0;36massert_\u001b[0;34m(condition, error)\u001b[0m\n\u001b[1;32m    170\u001b[0m \u001b[38;5;28;01mif\u001b[39;00m \u001b[38;5;28misinstance\u001b[39m(error, \u001b[38;5;28mstr\u001b[39m):\n\u001b[1;32m    171\u001b[0m     error \u001b[38;5;241m=\u001b[39m \u001b[38;5;167;01mAssertionError\u001b[39;00m(error)\n\u001b[0;32m--> 172\u001b[0m \u001b[38;5;28;01mraise\u001b[39;00m error\n",
      "\u001b[0;31mAssertionError\u001b[0m: "
     ]
    }
   ],
   "source": [
    "plot_model(model=lda, plot = 'frequency', topic_num = 'Topic 0')"
   ]
  },
  {
   "cell_type": "code",
   "execution_count": null,
   "id": "7d2ac445-ad1c-43c9-8f8e-b3da17f7a467",
   "metadata": {},
   "outputs": [],
   "source": [
    "plot_model(model=lda, plot = 'frequency', topic_num = 'Topic 1')"
   ]
  },
  {
   "cell_type": "code",
   "execution_count": null,
   "id": "84e2c96e-0e70-4a17-ab22-5340b2d2f58a",
   "metadata": {},
   "outputs": [],
   "source": [
    "plot_model(model=lda, plot = 'frequency', topic_num = 'Topic 2')"
   ]
  },
  {
   "cell_type": "code",
   "execution_count": null,
   "id": "2f9a3206-023a-4741-9615-06b3419ed27a",
   "metadata": {},
   "outputs": [],
   "source": [
    "plot_model(model=lda, plot = 'frequency', topic_num = 'Topic 3')"
   ]
  },
  {
   "cell_type": "code",
   "execution_count": null,
   "id": "52153f98",
   "metadata": {},
   "outputs": [],
   "source": [
    "plot_model(model=lda, plot = 'topic_distribution')"
   ]
  },
  {
   "cell_type": "markdown",
   "id": "c9f629fe",
   "metadata": {},
   "source": [
    "<a id = \"1.0\"></a>\n",
    "<p style=\"font-size:20px;color:#34656d;font-family:'Avantgarde';text-align:left;border-radius:5px;\">\n",
    "<strong>\n",
    "<a href=\"https://datascientest.com/es/comprende-el-algoritmo-t-sne-en-3-pasos\" target=\\\"_blank\\\">Algoritmo t-SNE</a>\n",
    "</strong></p>"
   ]
  },
  {
   "cell_type": "code",
   "execution_count": null,
   "id": "c8b8be00",
   "metadata": {},
   "outputs": [],
   "source": [
    "plot_model(model=lda, plot = 'tsne')"
   ]
  },
  {
   "cell_type": "code",
   "execution_count": null,
   "id": "c3e2ee5b",
   "metadata": {},
   "outputs": [],
   "source": [
    "plot_model(model=lda, plot = 'sentiment')"
   ]
  },
  {
   "cell_type": "code",
   "execution_count": null,
   "id": "177a13c3",
   "metadata": {},
   "outputs": [],
   "source": [
    "plot_model(model=lda, plot = 'pos')"
   ]
  },
  {
   "cell_type": "code",
   "execution_count": null,
   "id": "a16544f4",
   "metadata": {
    "scrolled": true
   },
   "outputs": [],
   "source": [
    "plot_model(model=lda, plot='topic_model')"
   ]
  },
  {
   "cell_type": "code",
   "execution_count": null,
   "id": "a69b5fad",
   "metadata": {},
   "outputs": [],
   "source": [
    "plot_model(model=lda, plot='wordcloud')"
   ]
  },
  {
   "cell_type": "markdown",
   "id": "9b053992",
   "metadata": {},
   "source": [
    "<a id = \"1.0\"></a>\n",
    "<p style=\"font-size:20px;color:#34656d;font-family:'Avantgarde';text-align:left;border-radius:5px;\">\n",
    "<strong>\n",
    "<a href=\"https://umap-learn.readthedocs.io/en/latest/\" target=\\\"_blank\\\">UMAP: Uniform Manifold Approximation and Projection for Dimension Reduction</a>\n",
    "</strong></p>"
   ]
  },
  {
   "cell_type": "code",
   "execution_count": null,
   "id": "4adb9b3e",
   "metadata": {},
   "outputs": [],
   "source": [
    "plot_model(model=lda, plot = 'umap')"
   ]
  },
  {
   "cell_type": "markdown",
   "id": "d644bbab",
   "metadata": {},
   "source": [
    "<a id = \"1.0\"></a>\n",
    "<p style=\"font-size:20px;color:#34656d;font-family:'Avantgarde';text-align:left;border-radius:5px;\">\n",
    "<strong>\n",
    "<a href=\"https://towardsdatascience.com/tsne-vs-umap-global-structure-4d8045acba17\" target=\\\"_blank\\\">tSNE vs. UMAP: Global Structure</a>\n",
    "</strong></p>"
   ]
  },
  {
   "cell_type": "markdown",
   "id": "24a35381",
   "metadata": {},
   "source": [
    "<a id = \"1.0\"></a>\n",
    "<p style=\"font-size:25px;color:#34656d;font-family:'Comic Sans MS';text-align:center;border-radius:5px 5px;\">\n",
    "<strong>_____________________________________________________________</strong></p> "
   ]
  },
  {
   "cell_type": "markdown",
   "id": "62a5b297",
   "metadata": {},
   "source": [
    "<a id = \"1.0\"></a>\n",
    "<p style=\"font-size:20px;color:#34656d;font-family:'Comic Sans MS';text-align:left;border-radius:5px;\">\n",
    "<strong>Visualización Automática</strong></p>"
   ]
  },
  {
   "cell_type": "code",
   "execution_count": null,
   "id": "43afa9a8",
   "metadata": {},
   "outputs": [],
   "source": [
    "evaluate_model(model=lda)"
   ]
  },
  {
   "cell_type": "markdown",
   "id": "2f092a76",
   "metadata": {},
   "source": [
    "<a id = \"1.0\"></a>\n",
    "<p style=\"font-size:25px;color:#34656d;font-family:'Comic Sans MS';text-align:center;border-radius:5px 5px;\">\n",
    "<strong>_____________________________________________________________</strong></p> "
   ]
  },
  {
   "cell_type": "markdown",
   "id": "5db11d54",
   "metadata": {},
   "source": [
    "<a id = \"1.0\"></a>\n",
    "<p style=\"font-size:20px;color:#34656d;font-family:'Comic Sans MS';text-align:left;border-radius:5px;\">\n",
    "<strong>Salvar el modelo</strong></p>"
   ]
  },
  {
   "cell_type": "code",
   "execution_count": null,
   "id": "7a361cce",
   "metadata": {},
   "outputs": [],
   "source": [
    "save_model(lda, 'AutoNLP_PyCaret_KivaDataSet')"
   ]
  },
  {
   "cell_type": "markdown",
   "id": "41ea6afd",
   "metadata": {},
   "source": [
    "<a id = \"1.0\"></a>\n",
    "<p style=\"font-size:25px;color:#34656d;font-family:'Comic Sans MS';text-align:center;border-radius:5px 5px;\">\n",
    "<strong>_____________________________________________________________</strong></p> "
   ]
  },
  {
   "cell_type": "markdown",
   "id": "c2edbf6a",
   "metadata": {},
   "source": [
    "<a id = \"1.0\"></a>\n",
    "<p style=\"font-size:25px;color:#34656d;font-family:'Comic Sans MS';text-align:center;border-radius:5px 5px;\">\n",
    "<strong>_____________________________________________________________</strong></p> "
   ]
  },
  {
   "cell_type": "code",
   "execution_count": null,
   "id": "2d75b8b0",
   "metadata": {},
   "outputs": [],
   "source": []
  }
 ],
 "metadata": {
  "kernelspec": {
   "display_name": "Python 3 (ipykernel)",
   "language": "python",
   "name": "python3"
  },
  "language_info": {
   "codemirror_mode": {
    "name": "ipython",
    "version": 3
   },
   "file_extension": ".py",
   "mimetype": "text/x-python",
   "name": "python",
   "nbconvert_exporter": "python",
   "pygments_lexer": "ipython3",
   "version": "3.8.15"
  }
 },
 "nbformat": 4,
 "nbformat_minor": 5
}
